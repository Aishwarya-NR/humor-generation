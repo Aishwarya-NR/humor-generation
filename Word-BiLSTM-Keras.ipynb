{
 "cells": [
  {
   "cell_type": "code",
   "execution_count": 24,
   "metadata": {},
   "outputs": [
    {
     "data": {
      "text/plain": [
       "<module 'library.data_preprocess' from 'C:\\\\Users\\\\bhchippa\\\\Desktop\\\\bhargavchippada\\\\humor-generation\\\\library\\\\data_preprocess.py'>"
      ]
     },
     "execution_count": 24,
     "metadata": {},
     "output_type": "execute_result"
    }
   ],
   "source": [
    "import pickle\n",
    "import keras\n",
    "from keras.preprocessing.text import Tokenizer\n",
    "import importlib\n",
    "from library import data_preprocess as dp\n",
    "importlib.reload(dp)"
   ]
  },
  {
   "cell_type": "code",
   "execution_count": 25,
   "metadata": {},
   "outputs": [
    {
     "name": "stdout",
     "output_type": "stream",
     "text": [
      "Number of jokes =  96910\n",
      "[\"sos did you hear about the new corduroy pillows ? they're making headlines everywhere ! eos\", 'sos a toast to wives , girlfriends , and lovers . may they never meet . eos']\n",
      "Vocab size =  8922\n",
      "['sos', 'did', 'you', 'hear', 'about', 'the', 'new', 'corduroy', 'pillows', '?']\n"
     ]
    }
   ],
   "source": [
    "with open('./datasets/jokes.pickle', 'rb') as pickleFile:\n",
    "    jokes_data = pickle.load(pickleFile)\n",
    "\n",
    "with open('./datasets/jokes_vocabulary.pickle', 'rb') as pickleFile:\n",
    "    jokes_vocab = pickle.load(pickleFile)\n",
    "    \n",
    "print(\"Number of jokes = \", len(jokes_data))\n",
    "print(jokes_data[:2])\n",
    "print(\"Vocab size = \", len(jokes_vocab))\n",
    "print(jokes_vocab[:10])"
   ]
  },
  {
   "cell_type": "code",
   "execution_count": 27,
   "metadata": {},
   "outputs": [
    {
     "name": "stdout",
     "output_type": "stream",
     "text": [
      "8922\n"
     ]
    }
   ],
   "source": [
    "#word_to_idx = {word:idx for idx, word in enumerate(jokes_vocab)}\n",
    "#idx_to_word = {idx:word for idx, word in enumerate(jokes_vocab)}\n",
    "\n",
    "num_words = len(jokes_vocab)\n",
    "print(num_words)\n",
    "\n",
    "tokenizer = Tokenizer(num_words=None, filters='', lower=True, split=' ', \n",
    "                      char_level=False, oov_token=None)\n",
    "tokenizer.fit_on_texts(jokes_data)\n",
    "assert num_words == len(tokenizer.word_index)"
   ]
  },
  {
   "cell_type": "code",
   "execution_count": null,
   "metadata": {},
   "outputs": [],
   "source": []
  }
 ],
 "metadata": {
  "kernelspec": {
   "display_name": "Python 3",
   "language": "python",
   "name": "python3"
  },
  "language_info": {
   "codemirror_mode": {
    "name": "ipython",
    "version": 3
   },
   "file_extension": ".py",
   "mimetype": "text/x-python",
   "name": "python",
   "nbconvert_exporter": "python",
   "pygments_lexer": "ipython3",
   "version": "3.6.4"
  }
 },
 "nbformat": 4,
 "nbformat_minor": 2
}
