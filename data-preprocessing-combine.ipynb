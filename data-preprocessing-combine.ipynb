{
 "cells": [
  {
   "cell_type": "code",
   "execution_count": 7,
   "metadata": {},
   "outputs": [],
   "source": [
    "import pickle"
   ]
  },
  {
   "cell_type": "code",
   "execution_count": 8,
   "metadata": {},
   "outputs": [
    {
     "name": "stdout",
     "output_type": "stream",
     "text": [
      "12614\n"
     ]
    }
   ],
   "source": [
    "with open('./datasets/jokes_vocabulary.pickle', 'rb') as pickleFile:\n",
    "    jokes_vocab = pickle.load(pickleFile)\n",
    "    \n",
    "with open('./datasets/quotes_vocabulary.pickle', 'rb') as pickleFile:\n",
    "    quotes_vocab = pickle.load(pickleFile)\n",
    "    \n",
    "with open('./datasets/tweets_vocabulary.pickle', 'rb') as pickleFile:\n",
    "    tweets_vocab = pickle.load(pickleFile)\n",
    "\n",
    "combined_vocab = []\n",
    "combined_vocab.extend(jokes_vocab)\n",
    "combined_vocab.extend(quotes_vocab)\n",
    "combined_vocab.extend(tweets_vocab)\n",
    "\n",
    "combined_vocab = list(set(combined_vocab))\n",
    "print(len(combined_vocab))\n",
    "\n",
    "with open(\"./datasets/combined_vocabulary.pickle\",\"wb\") as fop:\n",
    "    pickle.dump(combined_vocab, fop)"
   ]
  },
  {
   "cell_type": "code",
   "execution_count": 9,
   "metadata": {},
   "outputs": [
    {
     "name": "stdout",
     "output_type": "stream",
     "text": [
      "[[0, \"sos did you hear about the new corduroy pillows ? they're making headlines everywhere ! eos\"], [0, 'sos a toast to wives , girlfriends , and lovers . may they never meet . eos']]\n",
      "270543\n"
     ]
    }
   ],
   "source": [
    "with open('./datasets/jokes.pickle', 'rb') as pickleFile:\n",
    "    jokes = pickle.load(pickleFile)\n",
    "    \n",
    "with open('./datasets/quotes.pickle', 'rb') as pickleFile:\n",
    "    quotes = pickle.load(pickleFile)\n",
    "    \n",
    "with open('./datasets/tweets.pickle', 'rb') as pickleFile:\n",
    "    tweets = pickle.load(pickleFile)\n",
    "    \n",
    "jokes = [[0, item] for item in jokes]\n",
    "quotes = [[1, item] for item in quotes]\n",
    "tweets = [[2, item] for item in tweets]\n",
    "\n",
    "combined = []\n",
    "combined.extend(jokes)\n",
    "combined.extend(quotes)\n",
    "combined.extend(tweets)\n",
    "print(combined[:2])\n",
    "\n",
    "print(len(combined))\n",
    "\n",
    "with open(\"./datasets/combined.pickle\",\"wb\") as fop:\n",
    "    pickle.dump(combined, fop)"
   ]
  },
  {
   "cell_type": "code",
   "execution_count": null,
   "metadata": {},
   "outputs": [],
   "source": []
  }
 ],
 "metadata": {
  "kernelspec": {
   "display_name": "Python 3",
   "language": "python",
   "name": "python3"
  },
  "language_info": {
   "codemirror_mode": {
    "name": "ipython",
    "version": 3
   },
   "file_extension": ".py",
   "mimetype": "text/x-python",
   "name": "python",
   "nbconvert_exporter": "python",
   "pygments_lexer": "ipython3",
   "version": "3.6.4"
  }
 },
 "nbformat": 4,
 "nbformat_minor": 2
}
