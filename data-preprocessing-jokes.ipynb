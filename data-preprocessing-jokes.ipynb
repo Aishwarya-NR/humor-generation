{
 "cells": [
  {
   "cell_type": "code",
   "execution_count": 91,
   "metadata": {},
   "outputs": [],
   "source": [
    "import importlib\n",
    "from library import data_preprocess as dp\n",
    "import matplotlib.pyplot as plt\n",
    "importlib.reload(dp)\n",
    "import pickle"
   ]
  },
  {
   "cell_type": "code",
   "execution_count": 92,
   "metadata": {},
   "outputs": [],
   "source": [
    "file_path1 = \"./data/shortjokes.csv\"\n",
    "file_path2 = \"./data/crowdtruth_humorous_oneliners.pickle\""
   ]
  },
  {
   "cell_type": "code",
   "execution_count": 93,
   "metadata": {},
   "outputs": [],
   "source": [
    "#file_path1 = dp.download_data('https://github.com/amoudgl/short-jokes-dataset/raw/master/shortjokes.csv')"
   ]
  },
  {
   "cell_type": "code",
   "execution_count": 94,
   "metadata": {},
   "outputs": [
    {
     "name": "stdout",
     "output_type": "stream",
     "text": [
      "236188\n",
      "['What did the duck say to the cashier after she purchased some lipstick? \"Just put it on my bill\"', 'Right now the parents of the kid who climbed Trump Tower are thinking \"Damn I knew we shouldn\\'t have given him that REI gift card\"', \"I don't know why this bottle of whiskey tastes so good, but I'm going to get to the bottom of it.\", \"How do you find Illuminati's secret hideout? You triangulate their position!\", \"What is a pirate's least favorite letter? Dear Sir/Ma'am We are cutting your internet connection due to the following reasons: Illegal Downloading\", 'I was told to put two planks together I totally nailed it.', \"Hey!! pssst! Guys who wear camo to bars: There is a reason you're not getting laid...it's because the women can't see you..\", \"Hell yeah I'm a catholic i've been addicted to cats my whole life\", \"Are your parents retarded? ...because you're one special lady!\", \"Apparently there are midget prostitutes in Thailand who cost less than a dollar. Clearly they're selling themselves short.\"]\n"
     ]
    }
   ],
   "source": [
    "jokes1 = dp.load_data(file_path1, header=True, sep=',')\n",
    "jokes1 = list(jokes1['Joke'].values)\n",
    "with open(file_path2, 'rb') as pickleFile:\n",
    "    jokes2 = pickle.load(pickleFile)\n",
    "jokes = jokes1\n",
    "jokes.extend(jokes2)\n",
    "jokes = list(set(jokes))\n",
    "print(len(jokes))\n",
    "print(jokes[:10])"
   ]
  },
  {
   "cell_type": "code",
   "execution_count": 95,
   "metadata": {},
   "outputs": [
    {
     "name": "stdout",
     "output_type": "stream",
     "text": [
      "97\n",
      "['\\x08', '\\x10', ' ', '!', '\"', '#', '$', '%', '&', \"'\", '(', ')', '*', '+', ',', '-', '.', '/', '0', '1', '2', '3', '4', '5', '6', '7', '8', '9', ':', ';', '<', '=', '>', '?', '@', 'A', 'B', 'C', 'D', 'E', 'F', 'G', 'H', 'I', 'J', 'K', 'L', 'M', 'N', 'O', 'P', 'Q', 'R', 'S', 'T', 'U', 'V', 'W', 'X', 'Y', 'Z', '[', '\\\\', ']', '^', '_', '`', 'a', 'b', 'c', 'd', 'e', 'f', 'g', 'h', 'i', 'j', 'k', 'l', 'm', 'n', 'o', 'p', 'q', 'r', 's', 't', 'u', 'v', 'w', 'x', 'y', 'z', '{', '|', '}', '~']\n"
     ]
    }
   ],
   "source": [
    "unique_chars = dp.get_unique_chars(jokes)\n",
    "print(len(unique_chars))\n",
    "print(unique_chars)"
   ]
  },
  {
   "cell_type": "code",
   "execution_count": 96,
   "metadata": {},
   "outputs": [
    {
     "name": "stdout",
     "output_type": "stream",
     "text": [
      "Number of sentences containing each char is,\n",
      "{'\\x08': 1, '\\x10': 1, ' ': 236156, '!': 27624, '\"': 32651, '#': 724, '$': 1396, '%': 1163, '&': 3672, \"'\": 105698, '(': 4658, ')': 5135, '*': 8101, '+': 292, ',': 66731, '-': 20366, '.': 169777, '/': 3288, '0': 9591, '1': 11267, '2': 8890, '3': 5772, '4': 4280, '5': 5417, '6': 3432, '7': 2851, '8': 2981, '9': 4051, ':': 23178, ';': 2042, '<': 52, '=': 410, '>': 42, '?': 108901, '@': 140, 'A': 52374, 'B': 34734, 'C': 27474, 'D': 30457, 'E': 18093, 'F': 17364, 'G': 17779, 'H': 43970, 'I': 103194, 'J': 14563, 'K': 9602, 'L': 15412, 'M': 39035, 'N': 24267, 'O': 20739, 'P': 21032, 'Q': 3680, 'R': 16852, 'S': 42948, 'T': 58761, 'U': 8535, 'V': 5432, 'W': 92981, 'X': 923, 'Y': 19690, 'Z': 1049, '[': 5614, '\\\\': 81, ']': 5615, '^': 402, '_': 388, '`': 63, 'a': 233012, 'b': 148980, 'c': 184657, 'd': 212782, 'e': 234461, 'f': 155001, 'g': 170403, 'h': 224768, 'i': 228984, 'j': 33245, 'k': 139581, 'l': 207647, 'm': 180214, 'n': 227758, 'o': 232729, 'p': 147975, 'q': 7517, 'r': 224641, 's': 228854, 't': 232471, 'u': 200580, 'v': 100408, 'w': 175653, 'x': 25894, 'y': 197074, 'z': 13367, '{': 59, '|': 41, '}': 63, '~': 309}\n"
     ]
    }
   ],
   "source": [
    "dp.get_char_presence(jokes)"
   ]
  },
  {
   "cell_type": "code",
   "execution_count": 97,
   "metadata": {},
   "outputs": [
    {
     "name": "stdout",
     "output_type": "stream",
     "text": [
      "Total number of jokes =  236188\n",
      "194026\n",
      "['What did the duck say to the cashier after she purchased some lipstick? \"Just put it on my bill\"', 'Right now the parents of the kid who climbed Trump Tower are thinking \"Damn I knew we shouldn\\'t have given him that REI gift card\"', \"I don't know why this bottle of whiskey tastes so good, but I'm going to get to the bottom of it.\", \"How do you find Illuminati's secret hideout? You triangulate their position!\", 'I was told to put two planks together I totally nailed it.', \"Hey!! pssst! Guys who wear camo to bars: There is a reason you're not getting laid...it's because the women can't see you..\", \"Hell yeah I'm a catholic i've been addicted to cats my whole life\", \"Are your parents retarded? ...because you're one special lady!\", \"Apparently there are midget prostitutes in Thailand who cost less than a dollar. Clearly they're selling themselves short.\", \"Have you seen www.yawn.com? Yes but I'm a bit tired of it.\"]\n"
     ]
    }
   ],
   "source": [
    "print(\"Total number of jokes = \", len(jokes))\n",
    "filter_jokes = dp.filter_data(jokes, \"^[a-zA-Z !\\\"',.?\\-\\:\\*]+$\")\n",
    "print(len(filter_jokes))\n",
    "print(filter_jokes[:10])"
   ]
  },
  {
   "cell_type": "code",
   "execution_count": 98,
   "metadata": {},
   "outputs": [
    {
     "name": "stdout",
     "output_type": "stream",
     "text": [
      "36\n",
      "[' ', '!', '\"', \"'\", '*', ',', '-', '.', ':', '?', 'a', 'b', 'c', 'd', 'e', 'f', 'g', 'h', 'i', 'j', 'k', 'l', 'm', 'n', 'o', 'p', 'q', 'r', 's', 't', 'u', 'v', 'w', 'x', 'y', 'z']\n",
      "194026\n",
      "[['what', 'did', 'the', 'duck', 'say', 'to', 'the', 'cashier', 'after', 'she', 'purchased', 'some', 'lipstick', '?', '\"', 'just', 'put', 'it', 'on', 'my', 'bill', '\"'], ['right', 'now', 'the', 'parents', 'of', 'the', 'kid', 'who', 'climbed', 'trump', 'tower', 'are', 'thinking', '\"', 'damn', 'i', 'knew', 'we', 'shouldnt', 'have', 'given', 'him', 'that', 'rei', 'gift', 'card', '\"'], ['i', 'dont', 'know', 'why', 'this', 'bottle', 'of', 'whiskey', 'tastes', 'so', 'good', ',', 'but', 'im', 'going', 'to', 'get', 'to', 'the', 'bottom', 'of', 'it', '.'], ['how', 'do', 'you', 'find', 'illuminatis', 'secret', 'hideout', '?', 'you', 'triangulate', 'their', 'position', '!'], ['i', 'was', 'told', 'to', 'put', 'two', 'planks', 'together', 'i', 'totally', 'nailed', 'it', '.']]\n",
      "min of length:  1\n",
      "max of length:  107\n",
      "average length:  19.84772659334316\n",
      "mode of length:  16\n"
     ]
    }
   ],
   "source": [
    "special_chars = [' ', '!', '\"', \"'\", '*', ',', '-', '.', ':', '?']\n",
    "clean_jokes = dp.clean_data(jokes, \"^[a-zA-Z !\\\"'*,\\-.:?]+$\", special_chars)\n",
    "\n",
    "unique_chars = dp.get_unique_chars(clean_jokes)\n",
    "print(len(unique_chars))\n",
    "print(unique_chars)\n",
    "\n",
    "clean_jokes = dp.tokenize(clean_jokes)\n",
    "\n",
    "print(len(clean_jokes))\n",
    "print(clean_jokes[:5])\n",
    "\n",
    "# stats of number of tokens in the sentence\n",
    "dp.get_len_stats(clean_jokes)"
   ]
  },
  {
   "cell_type": "code",
   "execution_count": 99,
   "metadata": {},
   "outputs": [
    {
     "name": "stdout",
     "output_type": "stream",
     "text": [
      "189174\n"
     ]
    }
   ],
   "source": [
    "MIN_NUM_TOKENS = 6\n",
    "MAX_NUM_TOKENS = 40\n",
    "clean_jokes = dp.filter_data_on_length(clean_jokes, MIN_NUM_TOKENS, MAX_NUM_TOKENS)\n",
    "print(len(clean_jokes))"
   ]
  },
  {
   "cell_type": "code",
   "execution_count": 100,
   "metadata": {},
   "outputs": [],
   "source": [
    "word_freqs = dp.get_vocabulary(clean_jokes)"
   ]
  },
  {
   "cell_type": "code",
   "execution_count": 101,
   "metadata": {},
   "outputs": [
    {
     "name": "stdout",
     "output_type": "stream",
     "text": [
      "Total vocabulary:  55510\n",
      "average of frequency:  66.15674653215636\n",
      "mode of frequency:  1\n"
     ]
    }
   ],
   "source": [
    "dp.get_vocabulary_stats(word_freqs)"
   ]
  },
  {
   "cell_type": "code",
   "execution_count": 102,
   "metadata": {},
   "outputs": [
    {
     "name": "stdout",
     "output_type": "stream",
     "text": [
      "Number of filtered words =  8336\n",
      "94195\n",
      "[['what', 'did', 'the', 'duck', 'say', 'to', 'the', 'cashier', 'after', 'she', 'purchased', 'some', 'lipstick', '?', '\"', 'just', 'put', 'it', 'on', 'my', 'bill', '\"'], ['i', 'dont', 'know', 'why', 'this', 'bottle', 'of', 'whiskey', 'tastes', 'so', 'good', ',', 'but', 'im', 'going', 'to', 'get', 'to', 'the', 'bottom', 'of', 'it', '.'], ['hell', 'yeah', 'im', 'a', 'catholic', 'ive', 'been', 'addicted', 'to', 'cats', 'my', 'whole', 'life'], ['are', 'your', 'parents', 'retarded', '?', 'threedots', 'because', 'youre', 'one', 'special', 'lady', '!'], ['apparently', 'there', 'are', 'midget', 'prostitutes', 'in', 'thailand', 'who', 'cost', 'less', 'than', 'a', 'dollar', '.', 'clearly', 'theyre', 'selling', 'themselves', 'short', '.']]\n"
     ]
    }
   ],
   "source": [
    "filtered_words = dp.filter_words(word_freqs, 20)\n",
    "print(\"Number of filtered words = \", len(filtered_words))\n",
    "sents = dp.get_sentences_with_words(clean_jokes, filtered_words)\n",
    "print(len(sents))\n",
    "print(sents[:5])"
   ]
  },
  {
   "cell_type": "code",
   "execution_count": 103,
   "metadata": {},
   "outputs": [
    {
     "data": {
      "image/png": "[encoded data removed]",
      "text/plain": [
       "<matplotlib.figure.Figure at 0x1d084383470>"
      ]
     },
     "metadata": {},
     "output_type": "display_data"
    }
   ],
   "source": [
    "# Analysis for choosing optimum word freq cut off\n",
    "freqsL = list(range(1, 80, 5))\n",
    "num_words = []\n",
    "num_sents = []\n",
    "for x in freqsL:\n",
    "    filtered_words = dp.filter_words(word_freqs, x)\n",
    "    num_words.append(len(filtered_words))\n",
    "    num_sents.append(len(dp.get_sentences_with_words(clean_jokes, filtered_words)))\n",
    "plt.plot(num_words, num_sents)\n",
    "plt.show()"
   ]
  },
  {
   "cell_type": "code",
   "execution_count": 109,
   "metadata": {},
   "outputs": [
    {
     "name": "stdout",
     "output_type": "stream",
     "text": [
      "Number of filtered words =  8336\n",
      "Number of sentences:  94195\n"
     ]
    }
   ],
   "source": [
    "# Considering only words which have a frequency of atleast 15 and the corresponding sentences\n",
    "final_vocabulary = dp.filter_words(word_freqs, 20)\n",
    "print(\"Number of filtered words = \", len(final_vocabulary))\n",
    "final_clean_jokes = dp.get_sentences_with_words(clean_jokes, final_vocabulary)\n",
    "print(\"Number of sentences: \", len(final_clean_jokes))"
   ]
  },
  {
   "cell_type": "code",
   "execution_count": 110,
   "metadata": {
    "scrolled": true
   },
   "outputs": [
    {
     "name": "stdout",
     "output_type": "stream",
     "text": [
      "Final vocabulary size:  8338\n",
      "Number of sentences:  94195\n",
      "['sos what did the duck say to the cashier after she purchased some lipstick ? \" just put it on my bill \" eos', 'sos i dont know why this bottle of whiskey tastes so good , but im going to get to the bottom of it . eos']\n",
      "['what', 'did', 'the', 'duck', 'say', 'to', 'cashier', 'after', 'she', 'purchased']\n"
     ]
    }
   ],
   "source": [
    "# Let's append sos and eos tokens to all sentences\n",
    "clean_jokes_final = [[\"sos\"] + tokens + [\"eos\"] for tokens in final_clean_jokes]\n",
    "clean_jokes_final = [' '.join(tokens) for tokens in clean_jokes_final]\n",
    "vocabulary_final = final_vocabulary + [\"sos\", \"eos\"]\n",
    "print(\"Final vocabulary size: \", len(vocabulary_final))\n",
    "print(\"Number of sentences: \", len(clean_jokes_final))\n",
    "print(clean_jokes_final[:2])\n",
    "print(vocabulary_final[:10])"
   ]
  },
  {
   "cell_type": "code",
   "execution_count": 113,
   "metadata": {},
   "outputs": [],
   "source": [
    "with open(\"./datasets/jokes.pickle\",\"wb\") as fop:\n",
    "    pickle.dump(clean_jokes_final, fop)\n",
    "    \n",
    "with open(\"./datasets/jokes_vocabulary.pickle\",\"wb\") as fop:\n",
    "    pickle.dump(vocabulary_final, fop)"
   ]
  },
  {
   "cell_type": "code",
   "execution_count": 112,
   "metadata": {},
   "outputs": [
    {
     "name": "stdout",
     "output_type": "stream",
     "text": [
      "['sos what did the duck say to the cashier after she purchased some lipstick ? \" just put it on my bill \" eos', 'sos i dont know why this bottle of whiskey tastes so good , but im going to get to the bottom of it . eos', 'sos hell yeah im a catholic ive been addicted to cats my whole life eos', 'sos are your parents retarded ? threedots because youre one special lady ! eos', 'sos apparently there are midget prostitutes in thailand who cost less than a dollar . clearly theyre selling themselves short . eos']\n"
     ]
    }
   ],
   "source": [
    "print(clean_jokes_final[:5])"
   ]
  },
  {
   "cell_type": "code",
   "execution_count": null,
   "metadata": {},
   "outputs": [],
   "source": []
  }
 ],
 "metadata": {
  "kernelspec": {
   "display_name": "Python 3",
   "language": "python",
   "name": "python3"
  },
  "language_info": {
   "codemirror_mode": {
    "name": "ipython",
    "version": 3
   },
   "file_extension": ".py",
   "mimetype": "text/x-python",
   "name": "python",
   "nbconvert_exporter": "python",
   "pygments_lexer": "ipython3",
   "version": "3.6.4"
  }
 },
 "nbformat": 4,
 "nbformat_minor": 2
}
