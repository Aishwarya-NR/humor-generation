{
 "cells": [
  {
   "cell_type": "code",
   "execution_count": 1,
   "metadata": {},
   "outputs": [],
   "source": [
    "import importlib\n",
    "from library import data_preprocess as dp\n",
    "import matplotlib.pyplot as plt\n",
    "importlib.reload(dp)\n",
    "import pickle"
   ]
  },
  {
   "cell_type": "code",
   "execution_count": 2,
   "metadata": {},
   "outputs": [],
   "source": [
    "file_path1 = \"./data/shortjokes.csv\"\n",
    "file_path2 = \"./data/crowdtruth_humorous_oneliners.pickle\""
   ]
  },
  {
   "cell_type": "code",
   "execution_count": 93,
   "metadata": {},
   "outputs": [],
   "source": [
    "#file_path1 = dp.download_data('https://github.com/amoudgl/short-jokes-dataset/raw/master/shortjokes.csv')"
   ]
  },
  {
   "cell_type": "code",
   "execution_count": 3,
   "metadata": {},
   "outputs": [
    {
     "name": "stdout",
     "output_type": "stream",
     "text": [
      "236188\n",
      "['Facebook is not all about likes and shares. . . Like and share if you agree.', \"Did you hear about the new corduroy pillows? They're making headlines everywhere!!\", \"What's Forrest Gump's password? 1forrest1.\", 'What was the old lady\\'s favourite type of wine? \"Why don\\'t you ever take me to Florida?\" Courtesy of my Nana.', \"Guy walks into a psychiatrist's office wearing only Saran Wrap... Guy: doctor, I've been hearing voices. Can you help? Doctor: I'll try to diagnose but I can clearly see your nuts\", 'A toast to wives, girlfriends, and lovers. May they never meet.', 'If meat is murder... ...then is cake battery?', \"I doubt vodka has all the answers But it's worth a shot.\", \"Why was the mushroom invited to the party? Because he's a fungi.\", \"Doctor Doctor I'm a burglar! Have you taken anything for it?\"]\n"
     ]
    }
   ],
   "source": [
    "jokes1 = dp.load_data(file_path1, header=True, sep=',')\n",
    "jokes1 = list(jokes1['Joke'].values)\n",
    "with open(file_path2, 'rb') as pickleFile:\n",
    "    jokes2 = pickle.load(pickleFile)\n",
    "jokes = jokes1\n",
    "jokes.extend(jokes2)\n",
    "jokes = list(set(jokes))\n",
    "print(len(jokes))\n",
    "print(jokes[:10])"
   ]
  },
  {
   "cell_type": "code",
   "execution_count": 4,
   "metadata": {},
   "outputs": [
    {
     "name": "stdout",
     "output_type": "stream",
     "text": [
      "97\n",
      "['\\x08', '\\x10', ' ', '!', '\"', '#', '$', '%', '&', \"'\", '(', ')', '*', '+', ',', '-', '.', '/', '0', '1', '2', '3', '4', '5', '6', '7', '8', '9', ':', ';', '<', '=', '>', '?', '@', 'A', 'B', 'C', 'D', 'E', 'F', 'G', 'H', 'I', 'J', 'K', 'L', 'M', 'N', 'O', 'P', 'Q', 'R', 'S', 'T', 'U', 'V', 'W', 'X', 'Y', 'Z', '[', '\\\\', ']', '^', '_', '`', 'a', 'b', 'c', 'd', 'e', 'f', 'g', 'h', 'i', 'j', 'k', 'l', 'm', 'n', 'o', 'p', 'q', 'r', 's', 't', 'u', 'v', 'w', 'x', 'y', 'z', '{', '|', '}', '~']\n"
     ]
    }
   ],
   "source": [
    "unique_chars = dp.get_unique_chars(jokes)\n",
    "print(len(unique_chars))\n",
    "print(unique_chars)"
   ]
  },
  {
   "cell_type": "code",
   "execution_count": 5,
   "metadata": {},
   "outputs": [
    {
     "name": "stdout",
     "output_type": "stream",
     "text": [
      "Number of sentences containing each char is,\n",
      "{'\\x08': 1, '\\x10': 1, ' ': 236156, '!': 27624, '\"': 32651, '#': 724, '$': 1396, '%': 1163, '&': 3672, \"'\": 105698, '(': 4658, ')': 5135, '*': 8101, '+': 292, ',': 66731, '-': 20366, '.': 169777, '/': 3288, '0': 9591, '1': 11267, '2': 8890, '3': 5772, '4': 4280, '5': 5417, '6': 3432, '7': 2851, '8': 2981, '9': 4051, ':': 23178, ';': 2042, '<': 52, '=': 410, '>': 42, '?': 108901, '@': 140, 'A': 52374, 'B': 34734, 'C': 27474, 'D': 30457, 'E': 18093, 'F': 17364, 'G': 17779, 'H': 43970, 'I': 103194, 'J': 14563, 'K': 9602, 'L': 15412, 'M': 39035, 'N': 24267, 'O': 20739, 'P': 21032, 'Q': 3680, 'R': 16852, 'S': 42948, 'T': 58761, 'U': 8535, 'V': 5432, 'W': 92981, 'X': 923, 'Y': 19690, 'Z': 1049, '[': 5614, '\\\\': 81, ']': 5615, '^': 402, '_': 388, '`': 63, 'a': 233012, 'b': 148980, 'c': 184657, 'd': 212782, 'e': 234461, 'f': 155001, 'g': 170403, 'h': 224768, 'i': 228984, 'j': 33245, 'k': 139581, 'l': 207647, 'm': 180214, 'n': 227758, 'o': 232729, 'p': 147975, 'q': 7517, 'r': 224641, 's': 228854, 't': 232471, 'u': 200580, 'v': 100408, 'w': 175653, 'x': 25894, 'y': 197074, 'z': 13367, '{': 59, '|': 41, '}': 63, '~': 309}\n"
     ]
    }
   ],
   "source": [
    "dp.get_char_presence(jokes)"
   ]
  },
  {
   "cell_type": "code",
   "execution_count": 6,
   "metadata": {},
   "outputs": [
    {
     "name": "stdout",
     "output_type": "stream",
     "text": [
      "Total number of jokes =  236188\n",
      "194026\n",
      "['Facebook is not all about likes and shares. . . Like and share if you agree.', \"Did you hear about the new corduroy pillows? They're making headlines everywhere!!\", 'What was the old lady\\'s favourite type of wine? \"Why don\\'t you ever take me to Florida?\" Courtesy of my Nana.', \"Guy walks into a psychiatrist's office wearing only Saran Wrap... Guy: doctor, I've been hearing voices. Can you help? Doctor: I'll try to diagnose but I can clearly see your nuts\", 'A toast to wives, girlfriends, and lovers. May they never meet.', 'If meat is murder... ...then is cake battery?', \"I doubt vodka has all the answers But it's worth a shot.\", \"Why was the mushroom invited to the party? Because he's a fungi.\", \"Doctor Doctor I'm a burglar! Have you taken anything for it?\", \"Did you hear about Mike Tyson's opinion on ears? He had some biting commentary on the matter.\"]\n"
     ]
    }
   ],
   "source": [
    "print(\"Total number of jokes = \", len(jokes))\n",
    "filter_jokes = dp.filter_data(jokes, \"^[a-zA-Z !\\\"',.?\\-\\:\\*]+$\")\n",
    "print(len(filter_jokes))\n",
    "print(filter_jokes[:10])"
   ]
  },
  {
   "cell_type": "code",
   "execution_count": 7,
   "metadata": {},
   "outputs": [
    {
     "name": "stdout",
     "output_type": "stream",
     "text": [
      "36\n",
      "[' ', '!', '\"', \"'\", '*', ',', '-', '.', ':', '?', 'a', 'b', 'c', 'd', 'e', 'f', 'g', 'h', 'i', 'j', 'k', 'l', 'm', 'n', 'o', 'p', 'q', 'r', 's', 't', 'u', 'v', 'w', 'x', 'y', 'z']\n",
      "194026\n",
      "[['facebook', 'is', 'not', 'all', 'about', 'likes', 'and', 'shares', '.', '.', '.', 'like', 'and', 'share', 'if', 'you', 'agree', '.'], ['did', 'you', 'hear', 'about', 'the', 'new', 'corduroy', 'pillows', '?', \"they're\", 'making', 'headlines', 'everywhere', '!'], ['what', 'was', 'the', 'old', \"lady's\", 'favourite', 'type', 'of', 'wine', '?', '\"', 'why', \"don't\", 'you', 'ever', 'take', 'me', 'to', 'florida', '?', '\"', 'courtesy', 'of', 'my', 'nana', '.'], ['guy', 'walks', 'into', 'a', \"psychiatrist's\", 'office', 'wearing', 'only', 'saran', 'wrap', 'threedots', 'guy', ':', 'doctor', ',', \"i've\", 'been', 'hearing', 'voices', '.', 'can', 'you', 'help', '?', 'doctor', ':', \"i'll\", 'try', 'to', 'diagnose', 'but', 'i', 'can', 'clearly', 'see', 'your', 'nuts'], ['a', 'toast', 'to', 'wives', ',', 'girlfriends', ',', 'and', 'lovers', '.', 'may', 'they', 'never', 'meet', '.']]\n",
      "min of length:  1\n",
      "max of length:  107\n",
      "average length:  19.834666487996454\n",
      "mode of length:  16\n"
     ]
    }
   ],
   "source": [
    "pad_chars = [' ', '!', '\"', '*', ',', '-', ':', '?']\n",
    "clean_jokes = dp.clean_data(jokes, \"^[a-zA-Z !\\\"'*,\\-.:?]+$\", pad_chars)\n",
    "\n",
    "unique_chars = dp.get_unique_chars(clean_jokes)\n",
    "print(len(unique_chars))\n",
    "print(unique_chars)\n",
    "\n",
    "clean_jokes = dp.tokenize(clean_jokes)\n",
    "\n",
    "print(len(clean_jokes))\n",
    "print(clean_jokes[:5])\n",
    "\n",
    "# stats of number of tokens in the sentence\n",
    "dp.get_len_stats(clean_jokes)"
   ]
  },
  {
   "cell_type": "code",
   "execution_count": 8,
   "metadata": {},
   "outputs": [
    {
     "name": "stdout",
     "output_type": "stream",
     "text": [
      "189192\n"
     ]
    }
   ],
   "source": [
    "MIN_NUM_TOKENS = 6\n",
    "MAX_NUM_TOKENS = 40\n",
    "clean_jokes = dp.filter_data_on_length(clean_jokes, MIN_NUM_TOKENS, MAX_NUM_TOKENS)\n",
    "print(len(clean_jokes))"
   ]
  },
  {
   "cell_type": "code",
   "execution_count": 9,
   "metadata": {},
   "outputs": [],
   "source": [
    "word_freqs = dp.get_vocabulary(clean_jokes)"
   ]
  },
  {
   "cell_type": "code",
   "execution_count": 10,
   "metadata": {},
   "outputs": [
    {
     "name": "stdout",
     "output_type": "stream",
     "text": [
      "Total vocabulary:  57576\n",
      "average of frequency:  63.75574892316243\n",
      "mode of frequency:  1\n"
     ]
    }
   ],
   "source": [
    "dp.get_vocabulary_stats(word_freqs)"
   ]
  },
  {
   "cell_type": "code",
   "execution_count": 22,
   "metadata": {},
   "outputs": [
    {
     "name": "stdout",
     "output_type": "stream",
     "text": [
      "Number of filtered words =  8930\n",
      "96910\n",
      "[['did', 'you', 'hear', 'about', 'the', 'new', 'corduroy', 'pillows', '?', \"they're\", 'making', 'headlines', 'everywhere', '!'], ['a', 'toast', 'to', 'wives', ',', 'girlfriends', ',', 'and', 'lovers', '.', 'may', 'they', 'never', 'meet', '.'], ['if', 'meat', 'is', 'murder', 'threedots', 'threedots', 'then', 'is', 'cake', 'battery', '?'], ['i', 'doubt', 'vodka', 'has', 'all', 'the', 'answers', 'but', \"it's\", 'worth', 'a', 'shot', '.'], ['why', 'was', 'the', 'mushroom', 'invited', 'to', 'the', 'party', '?', 'because', \"he's\", 'a', 'fungi', '.']]\n"
     ]
    }
   ],
   "source": [
    "filtered_words = dp.filter_words(word_freqs, 18)\n",
    "print(\"Number of filtered words = \", len(filtered_words))\n",
    "sents = dp.get_sentences_with_words(clean_jokes, filtered_words)\n",
    "print(len(sents))\n",
    "print(sents[:5])"
   ]
  },
  {
   "cell_type": "code",
   "execution_count": 23,
   "metadata": {},
   "outputs": [
    {
     "data": {
      "image/png": "[encoded data removed]",
      "text/plain": [
       "<matplotlib.figure.Figure at 0x1fa8d439128>"
      ]
     },
     "metadata": {},
     "output_type": "display_data"
    }
   ],
   "source": [
    "# Analysis for choosing optimum word freq cut off\n",
    "freqsL = list(range(1, 80, 5))\n",
    "num_words = []\n",
    "num_sents = []\n",
    "for x in freqsL:\n",
    "    filtered_words = dp.filter_words(word_freqs, x)\n",
    "    num_words.append(len(filtered_words))\n",
    "    num_sents.append(len(dp.get_sentences_with_words(clean_jokes, filtered_words)))\n",
    "plt.plot(num_words, num_sents)\n",
    "plt.show()"
   ]
  },
  {
   "cell_type": "code",
   "execution_count": 27,
   "metadata": {},
   "outputs": [
    {
     "name": "stdout",
     "output_type": "stream",
     "text": [
      "Number of filtered words =  8930\n",
      "Number of sentences:  96910\n"
     ]
    }
   ],
   "source": [
    "# Considering only words which have a frequency of atleast 15 and the corresponding sentences\n",
    "final_vocabulary = dp.filter_words(word_freqs, 18)\n",
    "print(\"Number of filtered words = \", len(final_vocabulary))\n",
    "final_clean_jokes = dp.get_sentences_with_words(clean_jokes, final_vocabulary)\n",
    "print(\"Number of sentences: \", len(final_clean_jokes))"
   ]
  },
  {
   "cell_type": "code",
   "execution_count": 33,
   "metadata": {
    "scrolled": true
   },
   "outputs": [
    {
     "name": "stdout",
     "output_type": "stream",
     "text": [
      "Final vocabulary size:  8922\n",
      "Number of sentences:  96910\n",
      "[\"sos did you hear about the new corduroy pillows ? they're making headlines everywhere ! eos\", 'sos a toast to wives , girlfriends , and lovers . may they never meet . eos']\n",
      "['sos', 'did', 'you', 'hear', 'about', 'the', 'new', 'corduroy', 'pillows', '?']\n"
     ]
    }
   ],
   "source": [
    "# Let's append sos and eos tokens to all sentences\n",
    "clean_jokes_final = [[\"sos\"] + tokens + [\"eos\"] for tokens in final_clean_jokes]\n",
    "clean_jokes_final = [' '.join(tokens) for tokens in clean_jokes_final]\n",
    "vocabulary_final = dp.filter_words(dp.get_vocabulary(dp.tokenize(clean_jokes_final)), 0)\n",
    "print(\"Final vocabulary size: \", len(vocabulary_final))\n",
    "print(\"Number of sentences: \", len(clean_jokes_final))\n",
    "print(clean_jokes_final[:2])\n",
    "print(vocabulary_final[:10])"
   ]
  },
  {
   "cell_type": "code",
   "execution_count": 34,
   "metadata": {},
   "outputs": [],
   "source": [
    "with open(\"./datasets/jokes.pickle\",\"wb\") as fop:\n",
    "    pickle.dump(clean_jokes_final, fop)\n",
    "    \n",
    "with open(\"./datasets/jokes_vocabulary.pickle\",\"wb\") as fop:\n",
    "    pickle.dump(vocabulary_final, fop)"
   ]
  },
  {
   "cell_type": "code",
   "execution_count": 35,
   "metadata": {},
   "outputs": [
    {
     "name": "stdout",
     "output_type": "stream",
     "text": [
      "[\"sos did you hear about the new corduroy pillows ? they're making headlines everywhere ! eos\", 'sos a toast to wives , girlfriends , and lovers . may they never meet . eos', 'sos if meat is murder threedots threedots then is cake battery ? eos', \"sos i doubt vodka has all the answers but it's worth a shot . eos\", \"sos why was the mushroom invited to the party ? because he's a fungi . eos\", \"sos doctor doctor i'm a burglar ! have you taken anything for it ? eos\", \"sos god i'm so stupid i was looking all over for my car keys , turns out they were on my head the entire time . eos\", 'sos what lives in a tree and is dangerous ? a crow with a machine gun . eos', \"sos be nice to bacteria threedots they're the only culture some people have . eos\", \"sos my deaf girlfriend told me threedots my deaf girlfriend told me to fuck off . that's not a good sign eos\", 'sos being gay is a choice threedots like being black , poor , or an amputee . no one really made you go to iraq eos', 'sos i like my coffee like my slaves threedots free ! eos', 'sos what gets bigger every time i see my wife ? my wife . eos', 'sos hamburger a hamburger walks into a bar . the bartender says \" sorry we don\\'t serve food here . \" eos', 'sos why did the nuke switch course ? because a girl on the ground said \" i have a boyfriend \" later that day the nuke fell into depression eos', 'sos what did captain hook say to peter pan ? fuck niggers ! lol ! eos', 'sos the reason santa is so jolly is because he knows where all the bad girls live . eos', \"sos whose cruel idea was it for the word ' lisp ' to have an s in it ? eos\", 'sos was at a party the other day , there was a guitar there . i picked it up and someone asked if i could play wonderwall i said maybe eos', \"sos i've just saved a ton of cash on the latest iphone . i didn't buy one . eos\"]\n"
     ]
    }
   ],
   "source": [
    "print(clean_jokes_final[:20])"
   ]
  },
  {
   "cell_type": "code",
   "execution_count": null,
   "metadata": {},
   "outputs": [],
   "source": []
  }
 ],
 "metadata": {
  "kernelspec": {
   "display_name": "Python 3",
   "language": "python",
   "name": "python3"
  },
  "language_info": {
   "codemirror_mode": {
    "name": "ipython",
    "version": 3
   },
   "file_extension": ".py",
   "mimetype": "text/x-python",
   "name": "python",
   "nbconvert_exporter": "python",
   "pygments_lexer": "ipython3",
   "version": "3.6.4"
  }
 },
 "nbformat": 4,
 "nbformat_minor": 2
}
