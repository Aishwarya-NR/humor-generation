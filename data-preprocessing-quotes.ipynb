{
 "cells": [
  {
   "cell_type": "code",
   "execution_count": 109,
   "metadata": {},
   "outputs": [],
   "source": [
    "import importlib\n",
    "from library import data_preprocess as dp\n",
    "import matplotlib.pyplot as plt\n",
    "importlib.reload(dp)\n",
    "import pickle"
   ]
  },
  {
   "cell_type": "code",
   "execution_count": 110,
   "metadata": {},
   "outputs": [],
   "source": [
    "file_path1 = \"./data/author-quote.txt\"\n",
    "file_path2 = \"./data/quotes_all.csv\"\n",
    "file_path3 = \"./data/crowdtruth_proverbs.pickle\""
   ]
  },
  {
   "cell_type": "code",
   "execution_count": 111,
   "metadata": {},
   "outputs": [
    {
     "name": "stdout",
     "output_type": "stream",
     "text": [
      "36159\n",
      "[\"I don't know what leadership is. You can't touch it. You can't feel it. It's not tangible. But I do know this: you recognize it when you see it.\", 'I believe alien life is quite common in the universe, although intelligent life is less so. Some say it has yet to appear on planet Earth.']\n"
     ]
    }
   ],
   "source": [
    "quotes1 = list(set(dp.load_data(file_path1, header=False, sep='\\t')[1].values))\n",
    "print(len(quotes1))\n",
    "print(quotes1[:2])"
   ]
  },
  {
   "cell_type": "code",
   "execution_count": 112,
   "metadata": {},
   "outputs": [
    {
     "name": "stdout",
     "output_type": "stream",
     "text": [
      "61071\n",
      "['Magnanimous people have no vanity, they have no jealousy, and they feed on the true and the solid wherever they find it. And, what is more, they find it everywhere.', \"I don't know what leadership is. You can't touch it. You can't feel it. It's not tangible. But I do know this: you recognize it when you see it.\"]\n"
     ]
    }
   ],
   "source": [
    "quotes2 = list(set(dp.load_data(file_path2, header=True, sep=';')[\"QUOTE\"]))\n",
    "print(len(quotes2))\n",
    "print(quotes2[:2])"
   ]
  },
  {
   "cell_type": "code",
   "execution_count": 113,
   "metadata": {},
   "outputs": [
    {
     "name": "stdout",
     "output_type": "stream",
     "text": [
      "1019\n",
      "['He Smells Best That Smells Of Nothing', 'Easier Said Than Done']\n"
     ]
    }
   ],
   "source": [
    "with open(file_path3, 'rb') as pickleFile:\n",
    "    quotes3 = pickle.load(pickleFile)\n",
    "    quotes3 = list(set(quotes3))\n",
    "print(len(quotes3))\n",
    "print(quotes3[:2])"
   ]
  },
  {
   "cell_type": "code",
   "execution_count": 114,
   "metadata": {},
   "outputs": [
    {
     "name": "stdout",
     "output_type": "stream",
     "text": [
      "90019\n",
      "[\"I'm terrified of bugs and I travel with sprays, lotions, potions the lot. I have to check the room before I go to sleep and if I come across a bug and fail to remove it I have to sleep in a separate room as I'm paranoid that I'll be taken advantage of as I sleep.\", \"I don't know what leadership is. You can't touch it. You can't feel it. It's not tangible. But I do know this: you recognize it when you see it.\"]\n"
     ]
    }
   ],
   "source": [
    "quotes = quotes1\n",
    "quotes.extend(quotes2)\n",
    "quotes.extend(quotes3)\n",
    "quotes = list(set(quotes))\n",
    "print(len(quotes))\n",
    "print(quotes[:2])"
   ]
  },
  {
   "cell_type": "code",
   "execution_count": 115,
   "metadata": {},
   "outputs": [
    {
     "name": "stdout",
     "output_type": "stream",
     "text": [
      "88\n",
      "[' ', '!', '\"', '#', '$', '%', '&', \"'\", '(', ')', '*', '+', ',', '-', '.', '/', '0', '1', '2', '3', '4', '5', '6', '7', '8', '9', ':', ';', '=', '?', 'A', 'B', 'C', 'D', 'E', 'F', 'G', 'H', 'I', 'J', 'K', 'L', 'M', 'N', 'O', 'P', 'Q', 'R', 'S', 'T', 'U', 'V', 'W', 'X', 'Y', 'Z', 'a', 'b', 'c', 'd', 'e', 'f', 'g', 'h', 'i', 'j', 'k', 'l', 'm', 'n', 'o', 'p', 'q', 'r', 's', 't', 'u', 'v', 'w', 'x', 'y', 'z', '£', 'Â', 'â', '”', '€', '™']\n"
     ]
    }
   ],
   "source": [
    "unique_chars = dp.get_unique_chars(quotes)\n",
    "print(len(unique_chars))\n",
    "print(unique_chars)"
   ]
  },
  {
   "cell_type": "code",
   "execution_count": 87,
   "metadata": {},
   "outputs": [
    {
     "name": "stdout",
     "output_type": "stream",
     "text": [
      "Number of sentences containing each char is,\n",
      "{' ': 90019, '!': 1452, '\"': 8, '#': 5, '$': 148, '%': 101, '&': 62, \"'\": 37355, '(': 133, ')': 139, '*': 4, '+': 5, ',': 54194, '-': 11056, '.': 87913, '/': 126, '0': 2245, '1': 2197, '2': 1303, '3': 792, '4': 678, '5': 941, '6': 618, '7': 499, '8': 586, '9': 896, ':': 2481, ';': 2040, '=': 7, '?': 2919, 'A': 15365, 'B': 8410, 'C': 5887, 'D': 4033, 'E': 4650, 'F': 4530, 'G': 4981, 'H': 5544, 'I': 47185, 'J': 2109, 'K': 1159, 'L': 4417, 'M': 8826, 'N': 5000, 'O': 4642, 'P': 5103, 'Q': 212, 'R': 2867, 'S': 9180, 'T': 23280, 'U': 1728, 'V': 1215, 'W': 13138, 'X': 78, 'Y': 5268, 'Z': 137, 'a': 88790, 'b': 64007, 'c': 74702, 'd': 81209, 'e': 89750, 'f': 72721, 'g': 72782, 'h': 85573, 'i': 88186, 'j': 11766, 'k': 47145, 'l': 83349, 'm': 77446, 'n': 88486, 'o': 89115, 'p': 65696, 'q': 5608, 'r': 87411, 's': 88140, 't': 89013, 'u': 79087, 'v': 59699, 'w': 70813, 'x': 11654, 'y': 75113, 'z': 5700, '£': 4, '—': 1, '’': 1}\n"
     ]
    }
   ],
   "source": [
    "dp.get_char_presence(quotes)"
   ]
  },
  {
   "cell_type": "code",
   "execution_count": 116,
   "metadata": {},
   "outputs": [
    {
     "name": "stdout",
     "output_type": "stream",
     "text": [
      "Total number of quotes =  90019\n",
      "83449\n",
      "[\"I'm terrified of bugs and I travel with sprays, lotions, potions the lot. I have to check the room before I go to sleep and if I come across a bug and fail to remove it I have to sleep in a separate room as I'm paranoid that I'll be taken advantage of as I sleep.\", \"I don't know what leadership is. You can't touch it. You can't feel it. It's not tangible. But I do know this: you recognize it when you see it.\", \"Although I'm a business major out of McGill University, I know nothing... but then I found out much later in life, nobody knows anything.\", 'Death does not concern us, because as long as we exist, death is not here. And when it does come, we no longer exist.', \"I've never been a big believer in formal education.\", \"When you're teaching a hard concept and the students all have puzzled looks on their faces and then suddenly you can see that 'aha' moment, that they got it, that's just an incredible thing.\", 'Happiness: a way station between too little and too much.', 'When I go home, I play with my baby dolls and strollers and diaper bags, and play with my sisters.', 'I had to help to coax the performances and I really enjoyed that extra responsibility.', \"I think I might actually die of showing off. It'll be on my headstone - 'Cause of Death: Showing Off.'\"]\n"
     ]
    }
   ],
   "source": [
    "print(\"Total number of quotes = \", len(quotes))\n",
    "filter_quotes = dp.filter_data(quotes, \"^[a-zA-Z !\\\"',.?\\-\\:\\*]+$\")\n",
    "print(len(filter_quotes))\n",
    "print(filter_quotes[:10])"
   ]
  },
  {
   "cell_type": "code",
   "execution_count": 117,
   "metadata": {},
   "outputs": [
    {
     "name": "stdout",
     "output_type": "stream",
     "text": [
      "36\n",
      "[' ', '!', '\"', \"'\", '*', ',', '-', '.', ':', '?', 'a', 'b', 'c', 'd', 'e', 'f', 'g', 'h', 'i', 'j', 'k', 'l', 'm', 'n', 'o', 'p', 'q', 'r', 's', 't', 'u', 'v', 'w', 'x', 'y', 'z']\n",
      "83449\n",
      "[['im', 'terrified', 'of', 'bugs', 'and', 'i', 'travel', 'with', 'sprays', ',', 'lotions', ',', 'potions', 'the', 'lot', '.', 'i', 'have', 'to', 'check', 'the', 'room', 'before', 'i', 'go', 'to', 'sleep', 'and', 'if', 'i', 'come', 'across', 'a', 'bug', 'and', 'fail', 'to', 'remove', 'it', 'i', 'have', 'to', 'sleep', 'in', 'a', 'separate', 'room', 'as', 'im', 'paranoid', 'that', 'ill', 'be', 'taken', 'advantage', 'of', 'as', 'i', 'sleep', '.'], ['i', 'dont', 'know', 'what', 'leadership', 'is', '.', 'you', 'cant', 'touch', 'it', '.', 'you', 'cant', 'feel', 'it', '.', 'its', 'not', 'tangible', '.', 'but', 'i', 'do', 'know', 'this', ':', 'you', 'recognize', 'it', 'when', 'you', 'see', 'it', '.']]\n",
      "min of length:  2\n",
      "max of length:  108\n",
      "average length:  27.53177389782981\n",
      "mode of length:  14\n"
     ]
    }
   ],
   "source": [
    "special_chars = [' ', '!', '\"', \"'\", '*', ',', '-', '.', ':', '?']\n",
    "clean_quotes = dp.clean_data(quotes, \"^[a-zA-Z !\\\"'*,\\-.:?]+$\", special_chars)\n",
    "\n",
    "unique_chars = dp.get_unique_chars(clean_quotes)\n",
    "print(len(unique_chars))\n",
    "print(unique_chars)\n",
    "\n",
    "clean_quotes = dp.tokenize(clean_quotes)\n",
    "\n",
    "print(len(clean_quotes))\n",
    "print(clean_quotes[:2])\n",
    "\n",
    "# stats of number of tokens in the sentence\n",
    "dp.get_len_stats(clean_quotes)"
   ]
  },
  {
   "cell_type": "code",
   "execution_count": 118,
   "metadata": {},
   "outputs": [
    {
     "name": "stdout",
     "output_type": "stream",
     "text": [
      "80019\n"
     ]
    }
   ],
   "source": [
    "MIN_NUM_TOKENS = 6\n",
    "MAX_NUM_TOKENS = 60\n",
    "clean_quotes = dp.filter_data_on_length(clean_quotes, MIN_NUM_TOKENS, MAX_NUM_TOKENS)\n",
    "print(len(clean_quotes))"
   ]
  },
  {
   "cell_type": "code",
   "execution_count": 119,
   "metadata": {},
   "outputs": [],
   "source": [
    "word_freqs = dp.get_vocabulary(clean_quotes)"
   ]
  },
  {
   "cell_type": "code",
   "execution_count": 120,
   "metadata": {},
   "outputs": [
    {
     "name": "stdout",
     "output_type": "stream",
     "text": [
      "Total vocabulary:  34401\n",
      "average of frequency:  61.50861893549606\n",
      "mode of frequency:  1\n"
     ]
    }
   ],
   "source": [
    "dp.get_vocabulary_stats(word_freqs)"
   ]
  },
  {
   "cell_type": "code",
   "execution_count": 121,
   "metadata": {},
   "outputs": [
    {
     "name": "stdout",
     "output_type": "stream",
     "text": [
      "Number of filtered words =  5286\n",
      "29423\n",
      "[['death', 'does', 'not', 'concern', 'us', ',', 'because', 'as', 'long', 'as', 'we', 'exist', ',', 'death', 'is', 'not', 'here', '.', 'and', 'when', 'it', 'does', 'come', ',', 'we', 'no', 'longer', 'exist', '.'], ['ive', 'never', 'been', 'a', 'big', 'believer', 'in', 'formal', 'education', '.'], ['happiness', ':', 'a', 'way', 'station', 'between', 'too', 'little', 'and', 'too', 'much', '.'], ['i', 'dont', 'keep', 'up', 'with', 'twitter', 'all', 'day', 'long', '.'], ['no', 'matter', 'what', 'has', 'happened', ',', 'you', 'too', 'have', 'the', 'power', 'to', 'enjoy', 'yourself', '.']]\n"
     ]
    }
   ],
   "source": [
    "filtered_words = dp.filter_words(word_freqs, 20)\n",
    "print(\"Number of filtered words = \", len(filtered_words))\n",
    "sents = dp.get_sentences_with_words(clean_quotes, filtered_words)\n",
    "print(len(sents))\n",
    "print(sents[:5])"
   ]
  },
  {
   "cell_type": "code",
   "execution_count": 122,
   "metadata": {},
   "outputs": [
    {
     "data": {
      "image/png": "[encoded data removed]",
      "text/plain": [
       "<matplotlib.figure.Figure at 0x1d0f04829e8>"
      ]
     },
     "metadata": {},
     "output_type": "display_data"
    }
   ],
   "source": [
    "# Analysis for choosing optimum word freq cut off\n",
    "freqsL = list(range(1, 80, 5))\n",
    "num_words = []\n",
    "num_sents = []\n",
    "for x in freqsL:\n",
    "    filtered_words = dp.filter_words(word_freqs, x)\n",
    "    num_words.append(len(filtered_words))\n",
    "    num_sents.append(len(dp.get_sentences_with_words(clean_quotes, filtered_words)))\n",
    "plt.plot(num_words, num_sents)\n",
    "plt.show()"
   ]
  },
  {
   "cell_type": "code",
   "execution_count": 130,
   "metadata": {},
   "outputs": [
    {
     "name": "stdout",
     "output_type": "stream",
     "text": [
      "Number of filtered words =  8348\n",
      "Number of sentences:  41731\n"
     ]
    }
   ],
   "source": [
    "# Considering only words which have a frequency of atleast 15 and the corresponding sentences\n",
    "final_vocabulary = dp.filter_words(word_freqs, 10)\n",
    "print(\"Number of filtered words = \", len(final_vocabulary))\n",
    "final_clean_quotes = dp.get_sentences_with_words(clean_quotes, final_vocabulary)\n",
    "print(\"Number of sentences: \", len(final_clean_quotes))"
   ]
  },
  {
   "cell_type": "code",
   "execution_count": 131,
   "metadata": {
    "scrolled": true
   },
   "outputs": [
    {
     "name": "stdout",
     "output_type": "stream",
     "text": [
      "Final vocabulary size:  8350\n",
      "Number of sentences:  41731\n",
      "['sos i dont know what leadership is . you cant touch it . you cant feel it . its not tangible . but i do know this : you recognize it when you see it . eos', 'sos death does not concern us , because as long as we exist , death is not here . and when it does come , we no longer exist . eos']\n",
      "['im', 'terrified', 'of', 'and', 'i', 'travel', 'with', ',', 'the', 'lot']\n"
     ]
    }
   ],
   "source": [
    "# Let's append sos and eos tokens to all sentences\n",
    "clean_quotes_final = [[\"sos\"] + tokens + [\"eos\"] for tokens in final_clean_quotes]\n",
    "clean_quotes_final = [' '.join(tokens) for tokens in clean_quotes_final]\n",
    "vocabulary_final = final_vocabulary + [\"sos\", \"eos\"]\n",
    "print(\"Final vocabulary size: \", len(vocabulary_final))\n",
    "print(\"Number of sentences: \", len(clean_quotes_final))\n",
    "print(clean_quotes_final[:2])\n",
    "print(vocabulary_final[:10])"
   ]
  },
  {
   "cell_type": "code",
   "execution_count": 134,
   "metadata": {},
   "outputs": [],
   "source": [
    "with open(\"./datasets/quotes.pickle\",\"wb\") as fop:\n",
    "    pickle.dump(clean_quotes_final, fop)\n",
    "    \n",
    "with open(\"./datasets/quotes_vocabulary.pickle\",\"wb\") as fop:\n",
    "    pickle.dump(vocabulary_final, fop)"
   ]
  },
  {
   "cell_type": "code",
   "execution_count": 133,
   "metadata": {},
   "outputs": [
    {
     "name": "stdout",
     "output_type": "stream",
     "text": [
      "['sos i dont know what leadership is . you cant touch it . you cant feel it . its not tangible . but i do know this : you recognize it when you see it . eos', 'sos death does not concern us , because as long as we exist , death is not here . and when it does come , we no longer exist . eos', 'sos ive never been a big believer in formal education . eos', 'sos happiness : a way station between too little and too much . eos', 'sos i dont keep up with twitter all day long . eos']\n"
     ]
    }
   ],
   "source": [
    "print(clean_quotes_final[:5])"
   ]
  },
  {
   "cell_type": "code",
   "execution_count": null,
   "metadata": {},
   "outputs": [],
   "source": []
  }
 ],
 "metadata": {
  "kernelspec": {
   "display_name": "Python 3",
   "language": "python",
   "name": "python3"
  },
  "language_info": {
   "codemirror_mode": {
    "name": "ipython",
    "version": 3
   },
   "file_extension": ".py",
   "mimetype": "text/x-python",
   "name": "python",
   "nbconvert_exporter": "python",
   "pygments_lexer": "ipython3",
   "version": "3.6.4"
  }
 },
 "nbformat": 4,
 "nbformat_minor": 2
}
