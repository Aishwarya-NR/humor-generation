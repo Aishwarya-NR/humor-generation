{
 "cells": [
  {
   "cell_type": "code",
   "execution_count": 1,
   "metadata": {},
   "outputs": [],
   "source": [
    "import importlib\n",
    "from library import data_preprocess as dp\n",
    "import matplotlib.pyplot as plt\n",
    "importlib.reload(dp)\n",
    "import pickle"
   ]
  },
  {
   "cell_type": "code",
   "execution_count": 2,
   "metadata": {},
   "outputs": [],
   "source": [
    "file_path1 = \"./data/author-quote.txt\"\n",
    "file_path2 = \"./data/quotes_all.csv\"\n",
    "file_path3 = \"./data/crowdtruth_proverbs.pickle\""
   ]
  },
  {
   "cell_type": "code",
   "execution_count": 3,
   "metadata": {},
   "outputs": [
    {
     "name": "stdout",
     "output_type": "stream",
     "text": [
      "36159\n",
      "['We have to do the impossible, but it is possible.', \"Don't limit a child to your own learning, for he was born in another time.\"]\n"
     ]
    }
   ],
   "source": [
    "quotes1 = list(set(dp.load_data(file_path1, header=False, sep='\\t')[1].values))\n",
    "print(len(quotes1))\n",
    "print(quotes1[:2])"
   ]
  },
  {
   "cell_type": "code",
   "execution_count": 4,
   "metadata": {},
   "outputs": [
    {
     "name": "stdout",
     "output_type": "stream",
     "text": [
      "61071\n",
      "[\"Don't limit a child to your own learning, for he was born in another time.\", 'I am lucky to have advisers whom I trust.']\n"
     ]
    }
   ],
   "source": [
    "quotes2 = list(set(dp.load_data(file_path2, header=True, sep=';')[\"QUOTE\"]))\n",
    "print(len(quotes2))\n",
    "print(quotes2[:2])"
   ]
  },
  {
   "cell_type": "code",
   "execution_count": 5,
   "metadata": {},
   "outputs": [
    {
     "name": "stdout",
     "output_type": "stream",
     "text": [
      "1019\n",
      "['Long Absent, Soon Forgotten', 'Never Do Things By Halves']\n"
     ]
    }
   ],
   "source": [
    "with open(file_path3, 'rb') as pickleFile:\n",
    "    quotes3 = pickle.load(pickleFile)\n",
    "    quotes3 = list(set(quotes3))\n",
    "print(len(quotes3))\n",
    "print(quotes3[:2])"
   ]
  },
  {
   "cell_type": "code",
   "execution_count": 6,
   "metadata": {},
   "outputs": [
    {
     "name": "stdout",
     "output_type": "stream",
     "text": [
      "90019\n",
      "[\"Don't limit a child to your own learning, for he was born in another time.\", 'Racism, xenophobia and unfair discrimination have spawned slavery, when human beings have bought and sold and owned and branded fellow human beings as if they were so many beasts of burden.']\n"
     ]
    }
   ],
   "source": [
    "quotes = quotes1\n",
    "quotes.extend(quotes2)\n",
    "quotes.extend(quotes3)\n",
    "quotes = list(set(quotes))\n",
    "print(len(quotes))\n",
    "print(quotes[:2])"
   ]
  },
  {
   "cell_type": "code",
   "execution_count": 7,
   "metadata": {},
   "outputs": [
    {
     "name": "stdout",
     "output_type": "stream",
     "text": [
      "88\n",
      "[' ', '!', '\"', '#', '$', '%', '&', \"'\", '(', ')', '*', '+', ',', '-', '.', '/', '0', '1', '2', '3', '4', '5', '6', '7', '8', '9', ':', ';', '=', '?', 'A', 'B', 'C', 'D', 'E', 'F', 'G', 'H', 'I', 'J', 'K', 'L', 'M', 'N', 'O', 'P', 'Q', 'R', 'S', 'T', 'U', 'V', 'W', 'X', 'Y', 'Z', 'a', 'b', 'c', 'd', 'e', 'f', 'g', 'h', 'i', 'j', 'k', 'l', 'm', 'n', 'o', 'p', 'q', 'r', 's', 't', 'u', 'v', 'w', 'x', 'y', 'z', '£', 'Â', 'â', '”', '€', '™']\n"
     ]
    }
   ],
   "source": [
    "unique_chars = dp.get_unique_chars(quotes)\n",
    "print(len(unique_chars))\n",
    "print(unique_chars)"
   ]
  },
  {
   "cell_type": "code",
   "execution_count": 8,
   "metadata": {},
   "outputs": [
    {
     "name": "stdout",
     "output_type": "stream",
     "text": [
      "Number of sentences containing each char is,\n",
      "{' ': 90019, '!': 1452, '\"': 8, '#': 5, '$': 148, '%': 101, '&': 62, \"'\": 37355, '(': 133, ')': 139, '*': 4, '+': 5, ',': 54194, '-': 11056, '.': 87913, '/': 126, '0': 2245, '1': 2197, '2': 1303, '3': 792, '4': 678, '5': 941, '6': 618, '7': 499, '8': 586, '9': 896, ':': 2481, ';': 2040, '=': 7, '?': 2919, 'A': 15365, 'B': 8410, 'C': 5887, 'D': 4033, 'E': 4650, 'F': 4530, 'G': 4981, 'H': 5544, 'I': 47185, 'J': 2109, 'K': 1159, 'L': 4417, 'M': 8826, 'N': 5000, 'O': 4642, 'P': 5103, 'Q': 212, 'R': 2867, 'S': 9180, 'T': 23280, 'U': 1728, 'V': 1215, 'W': 13138, 'X': 78, 'Y': 5268, 'Z': 137, 'a': 88790, 'b': 64007, 'c': 74702, 'd': 81209, 'e': 89750, 'f': 72721, 'g': 72782, 'h': 85573, 'i': 88186, 'j': 11766, 'k': 47145, 'l': 83349, 'm': 77446, 'n': 88486, 'o': 89115, 'p': 65696, 'q': 5608, 'r': 87411, 's': 88140, 't': 89013, 'u': 79087, 'v': 59699, 'w': 70813, 'x': 11654, 'y': 75113, 'z': 5700, '£': 4, 'Â': 4, 'â': 1, '”': 1, '€': 1, '™': 1}\n"
     ]
    }
   ],
   "source": [
    "dp.get_char_presence(quotes)"
   ]
  },
  {
   "cell_type": "code",
   "execution_count": 9,
   "metadata": {},
   "outputs": [
    {
     "name": "stdout",
     "output_type": "stream",
     "text": [
      "Total number of quotes =  90019\n",
      "83449\n",
      "[\"Don't limit a child to your own learning, for he was born in another time.\", 'Racism, xenophobia and unfair discrimination have spawned slavery, when human beings have bought and sold and owned and branded fellow human beings as if they were so many beasts of burden.', 'I am lucky to have advisers whom I trust.', \"It took me so many years to move out. I'm definitely a bit of a Peter Pan, reluctant to grow up. It all seemed really nice at home-why change it? Part of me would prefer not to have any responsibility whatsoever.\", \"There was a sense that there was a lot of word of mouth happening with 'The Memory Keeper's Daughter,' even in hardcover.\", \"My father opened a restaurant. It's so amazing... it's so freaking delicious, but I'm telling you I gain five pounds every time I go in there.\", 'Men take only their needs into consideration - never their abilities.', \"He that does good for good's sake seeks neither paradise nor reward, but he is sure of both in the end.\", 'To walk around with an ego is a bad thing. To have confidence in yourself is a great thing.', \"It's so bizarre, I'm not scared of snakes or spiders. But I'm scared of butterflies. There is something eerie about them. Something weird!\"]\n"
     ]
    }
   ],
   "source": [
    "print(\"Total number of quotes = \", len(quotes))\n",
    "filter_quotes = dp.filter_data(quotes, \"^[a-zA-Z !\\\"',.?\\-\\:\\*]+$\")\n",
    "print(len(filter_quotes))\n",
    "print(filter_quotes[:10])"
   ]
  },
  {
   "cell_type": "code",
   "execution_count": 35,
   "metadata": {},
   "outputs": [
    {
     "name": "stdout",
     "output_type": "stream",
     "text": [
      "36\n",
      "[' ', '!', '\"', \"'\", '*', ',', '-', '.', ':', '?', 'a', 'b', 'c', 'd', 'e', 'f', 'g', 'h', 'i', 'j', 'k', 'l', 'm', 'n', 'o', 'p', 'q', 'r', 's', 't', 'u', 'v', 'w', 'x', 'y', 'z']\n",
      "83449\n",
      "[[\"don't\", 'limit', 'a', 'child', 'to', 'your', 'own', 'learning', ',', 'for', 'he', 'was', 'born', 'in', 'another', 'time', '.'], ['racism', ',', 'xenophobia', 'and', 'unfair', 'discrimination', 'have', 'spawned', 'slavery', ',', 'when', 'human', 'beings', 'have', 'bought', 'and', 'sold', 'and', 'owned', 'and', 'branded', 'fellow', 'human', 'beings', 'as', 'if', 'they', 'were', 'so', 'many', 'beasts', 'of', 'burden', '.']]\n",
      "min of length:  2\n",
      "max of length:  108\n",
      "average length:  27.517166173351388\n",
      "mode of length:  14\n"
     ]
    }
   ],
   "source": [
    "pad_chars = [' ', '!', '\"', '*', ',', '-', ':', '?']\n",
    "clean_quotes = dp.clean_data(quotes, \"^[a-zA-Z !\\\"'*,\\-.:?]+$\", pad_chars)\n",
    "\n",
    "unique_chars = dp.get_unique_chars(clean_quotes)\n",
    "print(len(unique_chars))\n",
    "print(unique_chars)\n",
    "\n",
    "clean_quotes = dp.tokenize(clean_quotes)\n",
    "\n",
    "print(len(clean_quotes))\n",
    "print(clean_quotes[:2])\n",
    "\n",
    "# stats of number of tokens in the sentence\n",
    "dp.get_len_stats(clean_quotes)"
   ]
  },
  {
   "cell_type": "code",
   "execution_count": 36,
   "metadata": {},
   "outputs": [
    {
     "name": "stdout",
     "output_type": "stream",
     "text": [
      "80036\n"
     ]
    }
   ],
   "source": [
    "MIN_NUM_TOKENS = 6\n",
    "MAX_NUM_TOKENS = 60\n",
    "clean_quotes = dp.filter_data_on_length(clean_quotes, MIN_NUM_TOKENS, MAX_NUM_TOKENS)\n",
    "print(len(clean_quotes))"
   ]
  },
  {
   "cell_type": "code",
   "execution_count": 37,
   "metadata": {},
   "outputs": [],
   "source": [
    "word_freqs = dp.get_vocabulary(clean_quotes)"
   ]
  },
  {
   "cell_type": "code",
   "execution_count": 38,
   "metadata": {},
   "outputs": [
    {
     "name": "stdout",
     "output_type": "stream",
     "text": [
      "Total vocabulary:  34977\n",
      "average of frequency:  60.49644051805472\n",
      "mode of frequency:  1\n"
     ]
    }
   ],
   "source": [
    "dp.get_vocabulary_stats(word_freqs)"
   ]
  },
  {
   "cell_type": "code",
   "execution_count": 39,
   "metadata": {},
   "outputs": [
    {
     "name": "stdout",
     "output_type": "stream",
     "text": [
      "Number of filtered words =  5299\n",
      "29198\n",
      "[[\"don't\", 'limit', 'a', 'child', 'to', 'your', 'own', 'learning', ',', 'for', 'he', 'was', 'born', 'in', 'another', 'time', '.'], ['men', 'take', 'only', 'their', 'needs', 'into', 'consideration', '-', 'never', 'their', 'abilities', '.'], ['to', 'walk', 'around', 'with', 'an', 'ego', 'is', 'a', 'bad', 'thing', '.', 'to', 'have', 'confidence', 'in', 'yourself', 'is', 'a', 'great', 'thing', '.'], ['an', 'ill', 'wound', 'is', 'cured', ',', 'not', 'an', 'ill', 'name'], [\"i'm\", 'so', 'happy', 'to', 'be', 'able', 'to', 'give', 'kids', 'the', 'opportunity', 'to', 'learn', 'about', 'amazing', 'world', 'of', 'dance', 'and', 'music', 'that', \"i've\", 'have', 'been', 'lucky', 'enough', 'to', 'make', 'such', 'a', 'big', 'part', 'of', 'my', 'own', 'life', '.']]\n"
     ]
    }
   ],
   "source": [
    "filtered_words = dp.filter_words(word_freqs, 20)\n",
    "print(\"Number of filtered words = \", len(filtered_words))\n",
    "sents = dp.get_sentences_with_words(clean_quotes, filtered_words)\n",
    "print(len(sents))\n",
    "print(sents[:5])"
   ]
  },
  {
   "cell_type": "code",
   "execution_count": 40,
   "metadata": {},
   "outputs": [
    {
     "data": {
      "image/png": "[encoded data removed]",
      "text/plain": [
       "<matplotlib.figure.Figure at 0x1e1fd3a8320>"
      ]
     },
     "metadata": {},
     "output_type": "display_data"
    }
   ],
   "source": [
    "# Analysis for choosing optimum word freq cut off\n",
    "freqsL = list(range(1, 80, 5))\n",
    "num_words = []\n",
    "num_sents = []\n",
    "for x in freqsL:\n",
    "    filtered_words = dp.filter_words(word_freqs, x)\n",
    "    num_words.append(len(filtered_words))\n",
    "    num_sents.append(len(dp.get_sentences_with_words(clean_quotes, filtered_words)))\n",
    "plt.plot(num_words, num_sents)\n",
    "plt.show()"
   ]
  },
  {
   "cell_type": "code",
   "execution_count": 41,
   "metadata": {},
   "outputs": [
    {
     "name": "stdout",
     "output_type": "stream",
     "text": [
      "Number of filtered words =  8961\n",
      "Number of sentences:  43383\n"
     ]
    }
   ],
   "source": [
    "# Considering only words which have a frequency of atleast 15 and the corresponding sentences\n",
    "final_vocabulary = dp.filter_words(word_freqs, 9)\n",
    "print(\"Number of filtered words = \", len(final_vocabulary))\n",
    "final_clean_quotes = dp.get_sentences_with_words(clean_quotes, final_vocabulary)\n",
    "print(\"Number of sentences: \", len(final_clean_quotes))"
   ]
  },
  {
   "cell_type": "code",
   "execution_count": 42,
   "metadata": {
    "scrolled": true
   },
   "outputs": [
    {
     "name": "stdout",
     "output_type": "stream",
     "text": [
      "Final vocabulary size:  8916\n",
      "Number of sentences:  43383\n",
      "[\"sos don't limit a child to your own learning , for he was born in another time . eos\", \"sos it took me so many years to move out . i'm definitely a bit of a peter pan , reluctant to grow up . it all seemed really nice at home - why change it ? part of me would prefer not to have any responsibility whatsoever . eos\"]\n",
      "['sos', \"don't\", 'limit', 'a', 'child', 'to', 'your', 'own', 'learning', ',']\n"
     ]
    }
   ],
   "source": [
    "# Let's append sos and eos tokens to all sentences\n",
    "clean_quotes_final = [[\"sos\"] + tokens + [\"eos\"] for tokens in final_clean_quotes]\n",
    "clean_quotes_final = [' '.join(tokens) for tokens in clean_quotes_final]\n",
    "vocabulary_final = dp.filter_words(dp.get_vocabulary(dp.tokenize(clean_quotes_final)), 0)\n",
    "print(\"Final vocabulary size: \", len(vocabulary_final))\n",
    "print(\"Number of sentences: \", len(clean_quotes_final))\n",
    "print(clean_quotes_final[:2])\n",
    "print(vocabulary_final[:10])"
   ]
  },
  {
   "cell_type": "code",
   "execution_count": 43,
   "metadata": {},
   "outputs": [],
   "source": [
    "with open(\"./datasets/quotes.pickle\",\"wb\") as fop:\n",
    "    pickle.dump(clean_quotes_final, fop)\n",
    "    \n",
    "with open(\"./datasets/quotes_vocabulary.pickle\",\"wb\") as fop:\n",
    "    pickle.dump(vocabulary_final, fop)"
   ]
  },
  {
   "cell_type": "code",
   "execution_count": 44,
   "metadata": {},
   "outputs": [
    {
     "name": "stdout",
     "output_type": "stream",
     "text": [
      "[\"sos don't limit a child to your own learning , for he was born in another time . eos\", \"sos it took me so many years to move out . i'm definitely a bit of a peter pan , reluctant to grow up . it all seemed really nice at home - why change it ? part of me would prefer not to have any responsibility whatsoever . eos\", 'sos men take only their needs into consideration - never their abilities . eos', 'sos to walk around with an ego is a bad thing . to have confidence in yourself is a great thing . eos', 'sos an ill wound is cured , not an ill name eos', 'sos i try to become more humble and more myself with every year . there was a while when i got famous where i was so confused and my head was spinning . eos', \"sos i think the industry finally gets it . they've lost the connection with the american public , and they've got to rebuild the trust with the american public . eos\", \"sos i'm so happy to be able to give kids the opportunity to learn about amazing world of dance and music that i've have been lucky enough to make such a big part of my own life . eos\", 'sos in politics , there are no friends . eos', 'sos you only need to make one big score in finance to be a hero forever . eos', 'sos women need real moments of solitude and self - reflection to balance out how much of ourselves we give away . eos', 'sos the wise man does at once what the fool does finally . eos', \"sos i've never intended to be controversial , but it's very easy to be controversial in pop music because nobody ever is . eos\", 'sos i would love to continue acting . maybe one day i would like to try writing and directing . eos', \"sos if you don't want to work you have to work to earn enough money so that you won't have to work . eos\"]\n"
     ]
    }
   ],
   "source": [
    "print(clean_quotes_final[:15])"
   ]
  },
  {
   "cell_type": "code",
   "execution_count": null,
   "metadata": {},
   "outputs": [],
   "source": []
  }
 ],
 "metadata": {
  "kernelspec": {
   "display_name": "Python 3",
   "language": "python",
   "name": "python3"
  },
  "language_info": {
   "codemirror_mode": {
    "name": "ipython",
    "version": 3
   },
   "file_extension": ".py",
   "mimetype": "text/x-python",
   "name": "python",
   "nbconvert_exporter": "python",
   "pygments_lexer": "ipython3",
   "version": "3.6.4"
  }
 },
 "nbformat": 4,
 "nbformat_minor": 2
}
