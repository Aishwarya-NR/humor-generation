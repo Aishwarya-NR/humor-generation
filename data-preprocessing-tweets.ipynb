{
 "cells": [
  {
   "cell_type": "code",
   "execution_count": 52,
   "metadata": {},
   "outputs": [],
   "source": [
    "import importlib\n",
    "from library import data_preprocess as dp\n",
    "import matplotlib.pyplot as plt\n",
    "importlib.reload(dp)\n",
    "import pickle"
   ]
  },
  {
   "cell_type": "code",
   "execution_count": 53,
   "metadata": {},
   "outputs": [],
   "source": [
    "#https://www.kaggle.com/kazanova/sentiment140/data\n",
    "file_path1 = \"./data/training.1600000.processed.noemoticon.csv\""
   ]
  },
  {
   "cell_type": "code",
   "execution_count": 54,
   "metadata": {},
   "outputs": [
    {
     "name": "stdout",
     "output_type": "stream",
     "text": [
      "1577443\n",
      "['@parkerkrhoyt ok, maybe a few. still less than any other language ', 'twilight  x']\n"
     ]
    }
   ],
   "source": [
    "tweets = list(set(dp.load_data(file_path1, header=False, sep=',', usecols=[5])[5].str.lower().values))\n",
    "print(len(tweets))\n",
    "print(tweets[:2])"
   ]
  },
  {
   "cell_type": "code",
   "execution_count": 55,
   "metadata": {},
   "outputs": [
    {
     "name": "stdout",
     "output_type": "stream",
     "text": [
      "150\n",
      "['\\t', ' ', '!', '#', '$', '%', '&', \"'\", '(', ')', '*', '+', ',', '-', '.', '/', '0', '1', '2', '3', '4', '5', '6', '7', '8', '9', ':', ';', '=', '?', '@', '[', '\\\\', ']', '^', '_', '`', 'a', 'b', 'c', 'd', 'e', 'f', 'g', 'h', 'i', 'j', 'k', 'l', 'm', 'n', 'o', 'p', 'q', 'r', 's', 't', 'u', 'v', 'w', 'x', 'y', 'z', '{', '|', '}', '~', '\\x7f', '\\xa0', '¡', '¢', '£', '¤', '¥', '¦', '§', '¨', '©', 'ª', '«', '¬', '\\xad', '®', '¯', '°', '±', '²', '³', '´', 'µ', '¶', '·', '¸', '¹', 'º', '»', '¼', '½', '¾', '¿', '×', 'ß', 'à', 'á', 'â', 'ã', 'ä', 'å', 'æ', 'ç', 'è', 'é', 'ê', 'ë', 'ì', 'í', 'î', 'ï', 'ð', 'ñ', 'ò', 'ó', 'ø', 'ù', 'ú', 'û', 'ÿ', 'œ', 'š', 'ž', 'ƒ', 'ˆ', '˜', '–', '—', '‘', '’', '‚', '“', '”', '„', '†', '‡', '•', '…', '‰', '‹', '›', '€', '™']\n"
     ]
    }
   ],
   "source": [
    "unique_chars = dp.get_unique_chars(tweets)\n",
    "print(len(unique_chars))\n",
    "print(unique_chars)"
   ]
  },
  {
   "cell_type": "code",
   "execution_count": null,
   "metadata": {},
   "outputs": [],
   "source": [
    "dp.get_char_presence(quotes)"
   ]
  },
  {
   "cell_type": "code",
   "execution_count": 56,
   "metadata": {},
   "outputs": [
    {
     "name": "stdout",
     "output_type": "stream",
     "text": [
      "Total number of tweets =  1577443\n",
      "577841\n",
      "['twilight  x', 'ohhhhhh ive wasted the day..... feel bad now ', 'magic vs lakers?? magic will take the prize........ ', 'finals are basically assessing how well you understood the content throughout the year. i should do fine ', \"when fathers sleep their sons can't shower... \", \"don't understand how this twitter works... \", \"elvis pic of the day on igoogle is divine!  can't save it though \", \"short weekend.. on my way home.. but i don't feel like goin bak  ..\", \"in the er. beanie's temp is still going up \", 'lust is soo depressing ']\n"
     ]
    }
   ],
   "source": [
    "print(\"Total number of tweets = \", len(tweets))\n",
    "filter_tweets = dp.filter_data(tweets, \"^[a-zA-Z !\\\"',.?\\-\\:\\*]+$\")\n",
    "print(len(filter_tweets))\n",
    "print(filter_tweets[:10])"
   ]
  },
  {
   "cell_type": "code",
   "execution_count": 57,
   "metadata": {},
   "outputs": [
    {
     "name": "stdout",
     "output_type": "stream",
     "text": [
      "35\n",
      "[' ', '!', \"'\", '*', ',', '-', '.', ':', '?', 'a', 'b', 'c', 'd', 'e', 'f', 'g', 'h', 'i', 'j', 'k', 'l', 'm', 'n', 'o', 'p', 'q', 'r', 's', 't', 'u', 'v', 'w', 'x', 'y', 'z']\n",
      "577841\n",
      "[['twilight', 'x'], ['ohhhhhh', 'ive', 'wasted', 'the', 'day', 'threedots', 'feel', 'bad', 'now']]\n",
      "min of length:  1\n",
      "max of length:  65\n",
      "average length:  13.439899557144612\n",
      "mode of length:  7\n"
     ]
    }
   ],
   "source": [
    "special_chars = [' ', '!', '\"', \"'\", '*', ',', '-', '.', ':', '?']\n",
    "clean_tweets = dp.clean_data(tweets, \"^[a-zA-Z !\\\"'*,\\-.:?]+$\", special_chars)\n",
    "\n",
    "unique_chars = dp.get_unique_chars(clean_tweets)\n",
    "print(len(unique_chars))\n",
    "print(unique_chars)\n",
    "\n",
    "clean_tweets = dp.tokenize(clean_tweets)\n",
    "\n",
    "print(len(clean_tweets))\n",
    "print(clean_tweets[:2])\n",
    "\n",
    "# stats of number of tokens in the sentence\n",
    "dp.get_len_stats(clean_tweets)"
   ]
  },
  {
   "cell_type": "code",
   "execution_count": 67,
   "metadata": {},
   "outputs": [
    {
     "name": "stdout",
     "output_type": "stream",
     "text": [
      "363682\n"
     ]
    }
   ],
   "source": [
    "MIN_NUM_TOKENS = 10\n",
    "MAX_NUM_TOKENS = 40\n",
    "clean_tweets = dp.filter_data_on_length(clean_tweets, MIN_NUM_TOKENS, MAX_NUM_TOKENS)\n",
    "print(len(clean_tweets))"
   ]
  },
  {
   "cell_type": "code",
   "execution_count": 68,
   "metadata": {},
   "outputs": [],
   "source": [
    "word_freqs = dp.get_vocabulary(clean_tweets)"
   ]
  },
  {
   "cell_type": "code",
   "execution_count": 69,
   "metadata": {},
   "outputs": [
    {
     "name": "stdout",
     "output_type": "stream",
     "text": [
      "Total vocabulary:  114293\n",
      "average of frequency:  56.32225070651746\n",
      "mode of frequency:  1\n"
     ]
    }
   ],
   "source": [
    "dp.get_vocabulary_stats(word_freqs)"
   ]
  },
  {
   "cell_type": "code",
   "execution_count": 70,
   "metadata": {},
   "outputs": [
    {
     "name": "stdout",
     "output_type": "stream",
     "text": [
      "Number of filtered words =  10096\n",
      "197055\n",
      "[['magic', 'vs', 'lakers', '?', 'magic', 'will', 'take', 'the', 'prize', 'threedots'], ['short', 'weekend', 'threedots', 'on', 'my', 'way', 'home', 'threedots', 'but', 'i', 'dont', 'feel', 'like', 'goin', 'bak', 'threedots'], ['brb', '!', 'im', 'gotta', 'concentrate', 'on', 'makin', 'this', 'oatmeal', 'cuz', 'the', 'packet', 'dont', 'have', 'instructions', '!'], ['tears', 'for', 'fears', '-', 'everybody', 'wants', 'to', 'rule', 'the', 'world'], ['cozy', 'in', 'my', 'pajamas', 'threedots', 'church', 'tomorrow', 'in', 'the', 'morning']]\n"
     ]
    }
   ],
   "source": [
    "filtered_words = dp.filter_words(word_freqs, 20)\n",
    "print(\"Number of filtered words = \", len(filtered_words))\n",
    "sents = dp.get_sentences_with_words(clean_tweets, filtered_words)\n",
    "print(len(sents))\n",
    "print(sents[:5])"
   ]
  },
  {
   "cell_type": "code",
   "execution_count": 71,
   "metadata": {},
   "outputs": [
    {
     "data": {
      "image/png": "[encoded data removed]",
      "text/plain": [
       "<matplotlib.figure.Figure at 0x23ffee7b080>"
      ]
     },
     "metadata": {},
     "output_type": "display_data"
    }
   ],
   "source": [
    "# Analysis for choosing optimum word freq cut off\n",
    "freqsL = list(range(1, 80, 5))\n",
    "num_words = []\n",
    "num_sents = []\n",
    "for x in freqsL:\n",
    "    filtered_words = dp.filter_words(word_freqs, x)\n",
    "    num_words.append(len(filtered_words))\n",
    "    num_sents.append(len(dp.get_sentences_with_words(clean_tweets, filtered_words)))\n",
    "plt.plot(num_words, num_sents)\n",
    "plt.show()"
   ]
  },
  {
   "cell_type": "code",
   "execution_count": 72,
   "metadata": {},
   "outputs": [
    {
     "name": "stdout",
     "output_type": "stream",
     "text": [
      "vocabulary size =  11802\n",
      "Number of sentences:  129304\n",
      "[['tears', 'for', 'fears', '-', 'everybody', 'wants', 'to', 'rule', 'the', 'world'], ['today', 'is', 'scare', '-', 'of', '-', 'water', '-', 'day', '!', 'damn', 'my', 'body', 'smells', 'so', 'bad'], ['yes', '!', 'the', 'teen', 'choice', 'award', 'voting', 'is', 'finally', 'working'], ['starting', 'a', 'new', 'week', 'threedots', 'this', 'time', 'with', 'no', 'fear'], ['is', 'wrapping', 'up', 'a', 'long', 'day', ',', 'time', 'to', 'relax', '!', 'i', 'cant', 'believe', 'hockey', 'season', 'is', 'over', 'threedots'], ['is', 'packing', 'and', 'ready', 'for', 'an', 'early', 'flight', 'tomorrow', 'morning', '!', 'america', 'here', 'we', 'come', '!'], ['hungry', '.', 'hungry', '.', 'hungry', '.', 'no', 'food', 'at', 'home'], ['is', 'going', 'to', 'ride', 'her', 'horses', 'in', 'about', 'an', 'hour'], ['my', 'neighbors', 'next', 'door', 'are', 'now', 'fighting', 'with', 'the', 'ones', 'across', 'the', 'street', 'threedots', 'i', 'just', 'love', 'my', 'neighborhood'], ['im', 'so', 'thankful', 'for', 'those', 'who', 'know', 'how', 'to', 'make', 'me', 'smile']]\n"
     ]
    }
   ],
   "source": [
    "# let's consider tweets whose vocabulary matches with that of jokes and quotes dataset\n",
    "with open('./datasets/jokes_vocabulary.pickle', 'rb') as pickleFile:\n",
    "    jokes_vocabulary = pickle.load(pickleFile)\n",
    "    \n",
    "with open('./datasets/quotes_vocabulary.pickle', 'rb') as pickleFile:\n",
    "    quotes_vocabulary = pickle.load(pickleFile)\n",
    "\n",
    "final_vocabulary = jokes_vocabulary\n",
    "final_vocabulary.extend(quotes_vocabulary)\n",
    "final_vocabulary = list(set(final_vocabulary))\n",
    "print(\"vocabulary size = \", len(final_vocabulary))\n",
    "\n",
    "final_clean_tweets = dp.get_sentences_with_words(clean_tweets, final_vocabulary)\n",
    "print(\"Number of sentences: \", len(final_clean_tweets))\n",
    "print(final_clean_tweets[:10])"
   ]
  },
  {
   "cell_type": "code",
   "execution_count": 73,
   "metadata": {
    "scrolled": true
   },
   "outputs": [
    {
     "name": "stdout",
     "output_type": "stream",
     "text": [
      "Final vocabulary size:  11802\n",
      "Number of sentences:  129264\n",
      "['sos last minute school shop in a couple of minutes . follow me guys ! eos', 'sos so my family is leaving for france tomorrow threedots without me eos', \"sos i am now back at my grandparents ' and im super tired eos\", 'sos wants to not be at work threedots someone save me eos', 'sos i wish i was in a park threedots in london threedots the sun is shining and im stuck inside eos']\n",
      "['transformer', 'also', 'brave', 'climber', 'provoke', 'precise', 'sleeping', 'effect', 'similar', 'younger']\n"
     ]
    }
   ],
   "source": [
    "# Let's append sos and eos tokens to all sentences\n",
    "clean_tweets_final = [[\"sos\"] + tokens + [\"eos\"] for tokens in final_clean_tweets]\n",
    "clean_tweets_final = [' '.join(tokens) for tokens in clean_tweets_final]\n",
    "clean_tweets_final = list(set(clean_tweets_final))\n",
    "\n",
    "vocabulary_final = list(set(final_vocabulary + [\"sos\", \"eos\"]))\n",
    "print(\"Final vocabulary size: \", len(vocabulary_final))\n",
    "print(\"Number of sentences: \", len(clean_tweets_final))\n",
    "print(clean_tweets_final[:5])\n",
    "print(vocabulary_final[:10])"
   ]
  },
  {
   "cell_type": "code",
   "execution_count": 75,
   "metadata": {},
   "outputs": [],
   "source": [
    "with open(\"./datasets/tweets.pickle\",\"wb\") as fop:\n",
    "    pickle.dump(clean_tweets_final, fop)\n",
    "    \n",
    "with open(\"./datasets/tweets_vocabulary.pickle\",\"wb\") as fop:\n",
    "    pickle.dump(vocabulary_final, fop)"
   ]
  },
  {
   "cell_type": "code",
   "execution_count": 76,
   "metadata": {},
   "outputs": [
    {
     "name": "stdout",
     "output_type": "stream",
     "text": [
      "['sos last minute school shop in a couple of minutes . follow me guys ! eos', 'sos so my family is leaving for france tomorrow threedots without me eos', \"sos i am now back at my grandparents ' and im super tired eos\", 'sos wants to not be at work threedots someone save me eos', 'sos i wish i was in a park threedots in london threedots the sun is shining and im stuck inside eos']\n"
     ]
    }
   ],
   "source": [
    "print(clean_tweets_final[:5])"
   ]
  },
  {
   "cell_type": "code",
   "execution_count": null,
   "metadata": {},
   "outputs": [],
   "source": []
  }
 ],
 "metadata": {
  "kernelspec": {
   "display_name": "Python 3",
   "language": "python",
   "name": "python3"
  },
  "language_info": {
   "codemirror_mode": {
    "name": "ipython",
    "version": 3
   },
   "file_extension": ".py",
   "mimetype": "text/x-python",
   "name": "python",
   "nbconvert_exporter": "python",
   "pygments_lexer": "ipython3",
   "version": "3.6.4"
  }
 },
 "nbformat": 4,
 "nbformat_minor": 2
}
