{
 "cells": [
  {
   "cell_type": "code",
   "execution_count": 1,
   "metadata": {},
   "outputs": [],
   "source": [
    "import importlib\n",
    "from library import data_preprocess as dp\n",
    "import matplotlib.pyplot as plt\n",
    "importlib.reload(dp)\n",
    "import pickle"
   ]
  },
  {
   "cell_type": "code",
   "execution_count": 2,
   "metadata": {},
   "outputs": [],
   "source": [
    "#https://www.kaggle.com/kazanova/sentiment140/data\n",
    "file_path1 = \"./data/training.1600000.processed.noemoticon.csv\""
   ]
  },
  {
   "cell_type": "code",
   "execution_count": 3,
   "metadata": {},
   "outputs": [
    {
     "name": "stdout",
     "output_type": "stream",
     "text": [
      "1577443\n",
      "[\"@hodgman but she's deeeaaad  - a batman's opinion\", \"@oconel me too - she usually is early and i think her computer was on when i got here but now it looks like it's locked or she's left \"]\n"
     ]
    }
   ],
   "source": [
    "tweets = list(set(dp.load_data(file_path1, header=False, sep=',', usecols=[5])[5].str.lower().values))\n",
    "print(len(tweets))\n",
    "print(tweets[:2])"
   ]
  },
  {
   "cell_type": "code",
   "execution_count": 4,
   "metadata": {},
   "outputs": [
    {
     "name": "stdout",
     "output_type": "stream",
     "text": [
      "150\n",
      "['\\t', ' ', '!', '#', '$', '%', '&', \"'\", '(', ')', '*', '+', ',', '-', '.', '/', '0', '1', '2', '3', '4', '5', '6', '7', '8', '9', ':', ';', '=', '?', '@', '[', '\\\\', ']', '^', '_', '`', 'a', 'b', 'c', 'd', 'e', 'f', 'g', 'h', 'i', 'j', 'k', 'l', 'm', 'n', 'o', 'p', 'q', 'r', 's', 't', 'u', 'v', 'w', 'x', 'y', 'z', '{', '|', '}', '~', '\\x7f', '\\xa0', '¡', '¢', '£', '¤', '¥', '¦', '§', '¨', '©', 'ª', '«', '¬', '\\xad', '®', '¯', '°', '±', '²', '³', '´', 'µ', '¶', '·', '¸', '¹', 'º', '»', '¼', '½', '¾', '¿', '×', 'ß', 'à', 'á', 'â', 'ã', 'ä', 'å', 'æ', 'ç', 'è', 'é', 'ê', 'ë', 'ì', 'í', 'î', 'ï', 'ð', 'ñ', 'ò', 'ó', 'ø', 'ù', 'ú', 'û', 'ÿ', 'œ', 'š', 'ž', 'ƒ', 'ˆ', '˜', '–', '—', '‘', '’', '‚', '“', '”', '„', '†', '‡', '•', '…', '‰', '‹', '›', '€', '™']\n"
     ]
    }
   ],
   "source": [
    "unique_chars = dp.get_unique_chars(tweets)\n",
    "print(len(unique_chars))\n",
    "print(unique_chars)"
   ]
  },
  {
   "cell_type": "code",
   "execution_count": null,
   "metadata": {},
   "outputs": [],
   "source": [
    "dp.get_char_presence(quotes)"
   ]
  },
  {
   "cell_type": "code",
   "execution_count": 5,
   "metadata": {},
   "outputs": [
    {
     "name": "stdout",
     "output_type": "stream",
     "text": [
      "Total number of tweets =  1577443\n",
      "577841\n",
      "['seriously, why is it so difficult to find a decide lamp shade around here?  two days of looking and still no winners ', \"morning all. it's raining here  hope the gals had a ball last night - duh i reckon that's a given xx\", 'uhh! surveys! dlsu-m people! who wants to answer surveys? pm me ', 'loving rich people who flaunt their money ', 'is looking at some old pictures.. ah!! those were the days.. ', 'dont wanna go back to lex, where only sadness and pain awaits me ', 'i feel bad, this headache is very strong!!!  sometimes it bothers to be sick...', 'on a new work out routine  so pooped after it!', 'is at south molton vintage ralley! ', 'going shopping right now ']\n"
     ]
    }
   ],
   "source": [
    "print(\"Total number of tweets = \", len(tweets))\n",
    "filter_tweets = dp.filter_data(tweets, \"^[a-zA-Z !\\\"',.?\\-\\:\\*]+$\")\n",
    "print(len(filter_tweets))\n",
    "print(filter_tweets[:10])"
   ]
  },
  {
   "cell_type": "code",
   "execution_count": 16,
   "metadata": {},
   "outputs": [
    {
     "name": "stdout",
     "output_type": "stream",
     "text": [
      "35\n",
      "[' ', '!', \"'\", '*', ',', '-', '.', ':', '?', 'a', 'b', 'c', 'd', 'e', 'f', 'g', 'h', 'i', 'j', 'k', 'l', 'm', 'n', 'o', 'p', 'q', 'r', 's', 't', 'u', 'v', 'w', 'x', 'y', 'z']\n",
      "577841\n",
      "[['seriously', ',', 'why', 'is', 'it', 'so', 'difficult', 'to', 'find', 'a', 'decide', 'lamp', 'shade', 'around', 'here', '?', 'two', 'days', 'of', 'looking', 'and', 'still', 'no', 'winners'], ['morning', 'all', '.', \"it's\", 'raining', 'here', 'hope', 'the', 'gals', 'had', 'a', 'ball', 'last', 'night', '-', 'duh', 'i', 'reckon', \"that's\", 'a', 'given', 'xx']]\n",
      "min of length:  1\n",
      "max of length:  65\n",
      "average length:  13.406289965578766\n",
      "mode of length:  7\n"
     ]
    }
   ],
   "source": [
    "pad_chars = [' ', '!', '\"', '*', ',', '-', ':', '?']\n",
    "clean_tweets = dp.clean_data(tweets, \"^[a-zA-Z !\\\"'*,\\-.:?]+$\", pad_chars)\n",
    "\n",
    "unique_chars = dp.get_unique_chars(clean_tweets)\n",
    "print(len(unique_chars))\n",
    "print(unique_chars)\n",
    "\n",
    "clean_tweets = dp.tokenize(clean_tweets)\n",
    "\n",
    "print(len(clean_tweets))\n",
    "print(clean_tweets[:2])\n",
    "\n",
    "# stats of number of tokens in the sentence\n",
    "dp.get_len_stats(clean_tweets)"
   ]
  },
  {
   "cell_type": "code",
   "execution_count": 17,
   "metadata": {},
   "outputs": [
    {
     "name": "stdout",
     "output_type": "stream",
     "text": [
      "362932\n"
     ]
    }
   ],
   "source": [
    "MIN_NUM_TOKENS = 10\n",
    "MAX_NUM_TOKENS = 40\n",
    "clean_tweets = dp.filter_data_on_length(clean_tweets, MIN_NUM_TOKENS, MAX_NUM_TOKENS)\n",
    "print(len(clean_tweets))"
   ]
  },
  {
   "cell_type": "code",
   "execution_count": 18,
   "metadata": {},
   "outputs": [],
   "source": [
    "word_freqs = dp.get_vocabulary(clean_tweets)"
   ]
  },
  {
   "cell_type": "code",
   "execution_count": 19,
   "metadata": {},
   "outputs": [
    {
     "name": "stdout",
     "output_type": "stream",
     "text": [
      "Total vocabulary:  120011\n",
      "average of frequency:  53.44429260651107\n",
      "mode of frequency:  1\n"
     ]
    }
   ],
   "source": [
    "dp.get_vocabulary_stats(word_freqs)"
   ]
  },
  {
   "cell_type": "code",
   "execution_count": 20,
   "metadata": {},
   "outputs": [
    {
     "name": "stdout",
     "output_type": "stream",
     "text": [
      "Number of filtered words =  10146\n",
      "192898\n",
      "[['seriously', ',', 'why', 'is', 'it', 'so', 'difficult', 'to', 'find', 'a', 'decide', 'lamp', 'shade', 'around', 'here', '?', 'two', 'days', 'of', 'looking', 'and', 'still', 'no', 'winners'], ['morning', 'all', '.', \"it's\", 'raining', 'here', 'hope', 'the', 'gals', 'had', 'a', 'ball', 'last', 'night', '-', 'duh', 'i', 'reckon', \"that's\", 'a', 'given', 'xx'], ['is', 'looking', 'at', 'some', 'old', 'pictures', 'threedots', 'ah', '!', 'those', 'were', 'the', 'days', 'threedots'], ['i', 'feel', 'bad', ',', 'this', 'headache', 'is', 'very', 'strong', '!', 'sometimes', 'it', 'bothers', 'to', 'be', 'sick', 'threedots'], ['on', 'a', 'new', 'work', 'out', 'routine', 'so', 'pooped', 'after', 'it', '!']]\n"
     ]
    }
   ],
   "source": [
    "filtered_words = dp.filter_words(word_freqs, 20)\n",
    "print(\"Number of filtered words = \", len(filtered_words))\n",
    "sents = dp.get_sentences_with_words(clean_tweets, filtered_words)\n",
    "print(len(sents))\n",
    "print(sents[:5])"
   ]
  },
  {
   "cell_type": "code",
   "execution_count": 21,
   "metadata": {},
   "outputs": [
    {
     "data": {
      "image/png": "[encoded data removed]",
      "text/plain": [
       "<matplotlib.figure.Figure at 0x18b19d49c88>"
      ]
     },
     "metadata": {},
     "output_type": "display_data"
    }
   ],
   "source": [
    "# Analysis for choosing optimum word freq cut off\n",
    "freqsL = list(range(1, 80, 5))\n",
    "num_words = []\n",
    "num_sents = []\n",
    "for x in freqsL:\n",
    "    filtered_words = dp.filter_words(word_freqs, x)\n",
    "    num_words.append(len(filtered_words))\n",
    "    num_sents.append(len(dp.get_sentences_with_words(clean_tweets, filtered_words)))\n",
    "plt.plot(num_words, num_sents)\n",
    "plt.show()"
   ]
  },
  {
   "cell_type": "code",
   "execution_count": 22,
   "metadata": {},
   "outputs": [
    {
     "name": "stdout",
     "output_type": "stream",
     "text": [
      "vocabulary size =  12644\n",
      "Number of sentences:  130547\n",
      "[['seriously', ',', 'why', 'is', 'it', 'so', 'difficult', 'to', 'find', 'a', 'decide', 'lamp', 'shade', 'around', 'here', '?', 'two', 'days', 'of', 'looking', 'and', 'still', 'no', 'winners'], ['is', 'looking', 'at', 'some', 'old', 'pictures', 'threedots', 'ah', '!', 'those', 'were', 'the', 'days', 'threedots'], ['on', 'a', 'new', 'work', 'out', 'routine', 'so', 'pooped', 'after', 'it', '!'], ['omg', 'my', 'head', 'feels', 'like', \"it's\", 'about', 'to', 'explode', 'threedots', 'i', 'miss', 'my', 'mummy'], ['my', 'temperature', 'is', 'going', 'back', 'up', 'i', 'just', 'want', 'to', 'get', 'better', '!'], ['so', 'sick', 'threedots', 'probably', \"shouldn't\", 'have', 'gone', 'to', 'work', '.', 'my', 'body', 'hates', 'me'], ['yeah', 'its', 'difficult', 'letting', 'you', 'down', 'threedots', 'knowing', 'its', 'all', 'my', 'fault', '.'], ['back', 'out', 'of', 'l', 'o', 'v', 'e', '.', 'ha', '!'], ['oh', 'no', '!', 'i', \"don't\", 'want', 'fever', 'now', 'too', '!'], ['theatre', 'was', 'much', 'better', 'than', 'expected', '.', 'quite', 'enjoyed', 'it', '.', 'then', 'again', ',', 'i', 'was', 'going', 'in', 'with', 'extremely', 'low', 'expectations']]\n"
     ]
    }
   ],
   "source": [
    "# let's consider tweets whose vocabulary matches with that of jokes and quotes dataset\n",
    "with open('./datasets/jokes_vocabulary.pickle', 'rb') as pickleFile:\n",
    "    jokes_vocabulary = pickle.load(pickleFile)\n",
    "    \n",
    "with open('./datasets/quotes_vocabulary.pickle', 'rb') as pickleFile:\n",
    "    quotes_vocabulary = pickle.load(pickleFile)\n",
    "\n",
    "final_vocabulary = jokes_vocabulary\n",
    "final_vocabulary.extend(quotes_vocabulary)\n",
    "final_vocabulary = list(set(final_vocabulary))\n",
    "print(\"vocabulary size = \", len(final_vocabulary))\n",
    "\n",
    "final_clean_tweets = dp.get_sentences_with_words(clean_tweets, final_vocabulary)\n",
    "print(\"Number of sentences: \", len(final_clean_tweets))\n",
    "print(final_clean_tweets[:10])"
   ]
  },
  {
   "cell_type": "code",
   "execution_count": 23,
   "metadata": {
    "scrolled": true
   },
   "outputs": [
    {
     "name": "stdout",
     "output_type": "stream",
     "text": [
      "Final vocabulary size:  12644\n",
      "Number of sentences:  130514\n",
      "[\"sos certain times of the night bring in the most people and it's then that this happens quite frequently lately ! eos\", 'sos going to look in the refrigerator for a taste snack to eat eos', \"sos omg . i was just joking . now he deleted his twitter . great . i'm always the bad guy . eos\", 'sos lindsay lohan took a photo of herself topless with her blackberry then posted it to twitter for the world to see eos', 'sos praise the lord for very best friends ! just picked mine up from the airport . eos']\n",
      "['narnia', 'civil', 'requires', 'playboy', 'betting', 'possess', 'brady', 'bus', 'cattle', 'lord']\n"
     ]
    }
   ],
   "source": [
    "# Let's append sos and eos tokens to all sentences\n",
    "clean_tweets_final = [[\"sos\"] + tokens + [\"eos\"] for tokens in final_clean_tweets]\n",
    "clean_tweets_final = [' '.join(tokens) for tokens in clean_tweets_final]\n",
    "clean_tweets_final = list(set(clean_tweets_final))\n",
    "\n",
    "vocabulary_final = list(set(final_vocabulary + [\"sos\", \"eos\"]))\n",
    "print(\"Final vocabulary size: \", len(vocabulary_final))\n",
    "print(\"Number of sentences: \", len(clean_tweets_final))\n",
    "print(clean_tweets_final[:5])\n",
    "print(vocabulary_final[:10])"
   ]
  },
  {
   "cell_type": "code",
   "execution_count": 24,
   "metadata": {},
   "outputs": [],
   "source": [
    "with open(\"./datasets/tweets.pickle\",\"wb\") as fop:\n",
    "    pickle.dump(clean_tweets_final, fop)\n",
    "    \n",
    "with open(\"./datasets/tweets_vocabulary.pickle\",\"wb\") as fop:\n",
    "    pickle.dump(vocabulary_final, fop)"
   ]
  },
  {
   "cell_type": "code",
   "execution_count": 25,
   "metadata": {},
   "outputs": [
    {
     "name": "stdout",
     "output_type": "stream",
     "text": [
      "[\"sos certain times of the night bring in the most people and it's then that this happens quite frequently lately ! eos\", 'sos going to look in the refrigerator for a taste snack to eat eos', \"sos omg . i was just joking . now he deleted his twitter . great . i'm always the bad guy . eos\", 'sos lindsay lohan took a photo of herself topless with her blackberry then posted it to twitter for the world to see eos', 'sos praise the lord for very best friends ! just picked mine up from the airport . eos', \"sos just totally baked cookies and figured out what i'm wearing to dinner . eos\", 'sos after facebook it seems hackers are now behind my twitter password . eos', \"sos i don't even know why my eyes are open right now . i was having a very strange dream and then i heard my poor sick nephew crying eos\", 'sos sleeping in my own bed tonight threedots at home ! eos', 'sos dropped my iphone it not working look for a replacement eos', 'sos the cat has settled himself on my lap and decided i am not going to work today . i can go with that eos', \"sos sleepy threedots driving home tonight i wish it wasn't over already eos\", 'sos haha just wiped out on some stairs . hurt my wrist a lil bit eos', 'sos so nice to recognize the spine . must sit up straight , you must ! eos', 'sos just had a delicious breakfast threedots it should be fathers day everyday threedots time for laundry now eos']\n"
     ]
    }
   ],
   "source": [
    "print(clean_tweets_final[:15])"
   ]
  },
  {
   "cell_type": "code",
   "execution_count": null,
   "metadata": {},
   "outputs": [],
   "source": []
  }
 ],
 "metadata": {
  "kernelspec": {
   "display_name": "Python 3",
   "language": "python",
   "name": "python3"
  },
  "language_info": {
   "codemirror_mode": {
    "name": "ipython",
    "version": 3
   },
   "file_extension": ".py",
   "mimetype": "text/x-python",
   "name": "python",
   "nbconvert_exporter": "python",
   "pygments_lexer": "ipython3",
   "version": "3.6.4"
  }
 },
 "nbformat": 4,
 "nbformat_minor": 2
}
