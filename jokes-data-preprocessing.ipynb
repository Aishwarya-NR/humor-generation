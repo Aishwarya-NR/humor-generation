{
 "cells": [
  {
   "cell_type": "code",
   "execution_count": 78,
   "metadata": {},
   "outputs": [],
   "source": [
    "import importlib\n",
    "from library import data_preprocess as dp\n",
    "import matplotlib.pyplot as plt\n",
    "importlib.reload(dp)\n",
    "import pickle"
   ]
  },
  {
   "cell_type": "code",
   "execution_count": 3,
   "metadata": {},
   "outputs": [],
   "source": [
    "file_path = \"./data/shortjokes.csv\""
   ]
  },
  {
   "cell_type": "code",
   "execution_count": 4,
   "metadata": {},
   "outputs": [
    {
     "name": "stdout",
     "output_type": "stream",
     "text": [
      "100% [........................................................................] 24085786 / 24085786"
     ]
    }
   ],
   "source": [
    "file_path = dp.download_data('https://github.com/amoudgl/short-jokes-dataset/raw/master/shortjokes.csv')"
   ]
  },
  {
   "cell_type": "code",
   "execution_count": 5,
   "metadata": {},
   "outputs": [
    {
     "name": "stdout",
     "output_type": "stream",
     "text": [
      "['[me narrating a documentary about narrators] \"I can\\'t hear what they\\'re saying cuz I\\'m talking\"', 'Telling my daughter garlic is good for you. Good immune system and keeps pests away.Ticks, mosquitos, vampires... men.', \"I've been going through a really rough period at work this week It's my own fault for swapping my tampax for sand paper.\", 'If I could have dinner with anyone, dead or alive... ...I would choose alive. -B.J. Novak-', 'Two guys walk into a bar. The third guy ducks.', \"Why can't Barbie get pregnant? Because Ken comes in a different box. Heyooooooo\", 'Why was the musician arrested? He got in treble.', 'Did you hear about the guy who blew his entire lottery winnings on a limousine? He had nothing left to chauffeur it.', \"What do you do if a bird shits on your car? Don't ask her out again.\", 'He was a real gentlemen and always opened the fridge door for me']\n"
     ]
    }
   ],
   "source": [
    "jokes = dp.load_data(file_path, header=True, sep=',')\n",
    "jokes = list(jokes['Joke'].values)\n",
    "print(jokes[:10])"
   ]
  },
  {
   "cell_type": "code",
   "execution_count": 6,
   "metadata": {},
   "outputs": [
    {
     "name": "stdout",
     "output_type": "stream",
     "text": [
      "97\n",
      "['\\x08', '\\x10', ' ', '!', '\"', '#', '$', '%', '&', \"'\", '(', ')', '*', '+', ',', '-', '.', '/', '0', '1', '2', '3', '4', '5', '6', '7', '8', '9', ':', ';', '<', '=', '>', '?', '@', 'A', 'B', 'C', 'D', 'E', 'F', 'G', 'H', 'I', 'J', 'K', 'L', 'M', 'N', 'O', 'P', 'Q', 'R', 'S', 'T', 'U', 'V', 'W', 'X', 'Y', 'Z', '[', '\\\\', ']', '^', '_', '`', 'a', 'b', 'c', 'd', 'e', 'f', 'g', 'h', 'i', 'j', 'k', 'l', 'm', 'n', 'o', 'p', 'q', 'r', 's', 't', 'u', 'v', 'w', 'x', 'y', 'z', '{', '|', '}', '~']\n"
     ]
    }
   ],
   "source": [
    "unique_chars = dp.get_unique_chars(jokes)\n",
    "print(len(unique_chars))\n",
    "print(unique_chars)"
   ]
  },
  {
   "cell_type": "code",
   "execution_count": 7,
   "metadata": {},
   "outputs": [
    {
     "name": "stdout",
     "output_type": "stream",
     "text": [
      "Number of sentences containing each char is,\n",
      "{'\\x08': 1, '\\x10': 1, ' ': 231626, '!': 27146, '\"': 32180, '#': 709, '$': 1377, '%': 1141, '&': 3672, \"'\": 103713, '(': 4642, ')': 5112, '*': 8093, '+': 285, ',': 65381, '-': 20099, '.': 165924, '/': 3276, '0': 9450, '1': 11120, '2': 8757, '3': 5688, '4': 4211, '5': 5343, '6': 3356, '7': 2809, '8': 2937, '9': 3997, ':': 22914, ';': 2011, '<': 52, '=': 401, '>': 42, '?': 107332, '@': 137, 'A': 51661, 'B': 34268, 'C': 27127, 'D': 30005, 'E': 17906, 'F': 17160, 'G': 17579, 'H': 43375, 'I': 101063, 'J': 14394, 'K': 9474, 'L': 15225, 'M': 38297, 'N': 23971, 'O': 20520, 'P': 20749, 'Q': 3662, 'R': 16686, 'S': 42278, 'T': 57790, 'U': 8458, 'V': 5342, 'W': 91649, 'X': 911, 'Y': 19413, 'Z': 1041, '[': 5614, '\\\\': 81, ']': 5615, '^': 401, '_': 387, '`': 63, 'a': 228550, 'b': 146215, 'c': 181352, 'd': 208809, 'e': 229961, 'f': 152087, 'g': 167174, 'h': 220564, 'i': 224621, 'j': 32634, 'k': 137166, 'l': 203768, 'm': 176857, 'n': 223407, 'o': 228302, 'p': 145340, 'q': 7402, 'r': 220376, 's': 224482, 't': 228016, 'u': 196917, 'v': 98539, 'w': 172344, 'x': 25453, 'y': 193448, 'z': 13159, '{': 59, '|': 41, '}': 63, '~': 309}\n"
     ]
    }
   ],
   "source": [
    "dp.get_char_presence(jokes)"
   ]
  },
  {
   "cell_type": "code",
   "execution_count": 8,
   "metadata": {},
   "outputs": [
    {
     "name": "stdout",
     "output_type": "stream",
     "text": [
      "Total number of jokes =  231657\n",
      "189962\n",
      "['Telling my daughter garlic is good for you. Good immune system and keeps pests away.Ticks, mosquitos, vampires... men.', \"I've been going through a really rough period at work this week It's my own fault for swapping my tampax for sand paper.\", 'If I could have dinner with anyone, dead or alive... ...I would choose alive. -B.J. Novak-', 'Two guys walk into a bar. The third guy ducks.', \"Why can't Barbie get pregnant? Because Ken comes in a different box. Heyooooooo\", 'Why was the musician arrested? He got in treble.', 'Did you hear about the guy who blew his entire lottery winnings on a limousine? He had nothing left to chauffeur it.', \"What do you do if a bird shits on your car? Don't ask her out again.\", 'He was a real gentlemen and always opened the fridge door for me', 'Telling my daugthers date that \"she has lice and its very contagious the closer you get to her.\" *Correct way to parent.']\n"
     ]
    }
   ],
   "source": [
    "print(\"Total number of jokes = \", len(jokes))\n",
    "filter_jokes = dp.filter_data(jokes, \"^[a-zA-Z !\\\"',.?\\-\\:\\*]+$\")\n",
    "print(len(filter_jokes))\n",
    "print(filter_jokes[:10])"
   ]
  },
  {
   "cell_type": "code",
   "execution_count": 43,
   "metadata": {},
   "outputs": [
    {
     "name": "stdout",
     "output_type": "stream",
     "text": [
      "36\n",
      "[' ', '!', '\"', \"'\", '*', ',', '-', '.', ':', '?', 'a', 'b', 'c', 'd', 'e', 'f', 'g', 'h', 'i', 'j', 'k', 'l', 'm', 'n', 'o', 'p', 'q', 'r', 's', 't', 'u', 'v', 'w', 'x', 'y', 'z']\n",
      "189962\n",
      "[['telling', 'my', 'daughter', 'garlic', 'is', 'good', 'for', 'you', '.', 'good', 'immune', 'system', 'and', 'keeps', 'pests', 'away', '.', 'ticks', ',', 'mosquitos', ',', 'vampires', 'threedots', 'men', '.'], ['i', \"'\", 've', 'been', 'going', 'through', 'a', 'really', 'rough', 'period', 'at', 'work', 'this', 'week', 'it', \"'\", 's', 'my', 'own', 'fault', 'for', 'swapping', 'my', 'tampax', 'for', 'sand', 'paper', '.']]\n",
      "min of length:  1\n",
      "max of length:  107\n",
      "average length:  21.061649171939653\n",
      "mode of length:  16\n"
     ]
    }
   ],
   "source": [
    "special_chars = [' ', '!', '\"', \"'\", '*', ',', '-', '.', ':', '?']\n",
    "clean_jokes = dp.clean_data(jokes, \"^[a-zA-Z !\\\"'*,\\-.:?]+$\", special_chars)\n",
    "\n",
    "unique_chars = dp.get_unique_chars(clean_jokes)\n",
    "print(len(unique_chars))\n",
    "print(unique_chars)\n",
    "\n",
    "clean_jokes = dp.tokenize(clean_jokes)\n",
    "\n",
    "print(len(clean_jokes))\n",
    "print(clean_jokes[:2])\n",
    "\n",
    "# stats of number of tokens in the sentence\n",
    "dp.get_len_stats(clean_jokes)"
   ]
  },
  {
   "cell_type": "code",
   "execution_count": 44,
   "metadata": {},
   "outputs": [
    {
     "name": "stdout",
     "output_type": "stream",
     "text": [
      "183347\n"
     ]
    }
   ],
   "source": [
    "MIN_NUM_TOKENS = 6\n",
    "MAX_NUM_TOKENS = 40\n",
    "clean_jokes = dp.filter_data_on_length(clean_jokes, MIN_NUM_TOKENS, MAX_NUM_TOKENS)\n",
    "print(len(clean_jokes))"
   ]
  },
  {
   "cell_type": "code",
   "execution_count": 49,
   "metadata": {},
   "outputs": [],
   "source": [
    "word_freqs = dp.get_vocabulary(clean_jokes)"
   ]
  },
  {
   "cell_type": "code",
   "execution_count": 50,
   "metadata": {},
   "outputs": [
    {
     "name": "stdout",
     "output_type": "stream",
     "text": [
      "Total vocabulary:  53676\n",
      "average of frequency:  69.59490274983233\n",
      "mode of frequency:  1\n"
     ]
    }
   ],
   "source": [
    "dp.get_vocabulary_stats(word_freqs)"
   ]
  },
  {
   "cell_type": "code",
   "execution_count": 59,
   "metadata": {},
   "outputs": [
    {
     "name": "stdout",
     "output_type": "stream",
     "text": [
      "Number of filtered words =  8131\n",
      "91269\n",
      "[['two', 'guys', 'walk', 'into', 'a', 'bar', '.', 'the', 'third', 'guy', 'ducks', '.'], ['what', 'do', 'you', 'do', 'if', 'a', 'bird', 'shits', 'on', 'your', 'car', '?', 'don', \"'\", 't', 'ask', 'her', 'out', 'again', '.'], ['he', 'was', 'a', 'real', 'gentlemen', 'and', 'always', 'opened', 'the', 'fridge', 'door', 'for', 'me'], ['you', 'ever', 'notice', 'that', 'the', 'most', 'dangerous', 'thing', 'about', 'marijuana', 'is', 'getting', 'caught', 'with', 'it', '?'], ['my', 'wife', 'is', 'in', 'a', 'bad', 'mood', '.', 'i', 'think', 'her', 'boyfriend', 'forgot', 'their', 'anniversary', '.', 'way', 'to', 'go', ',', 'dude', '.', 'now', 'we', 'all', 'suffer', 'threedots']]\n"
     ]
    }
   ],
   "source": [
    "filtered_words = dp.filter_words(word_freqs, 20)\n",
    "print(\"Number of filtered words = \", len(filtered_words))\n",
    "sents = dp.get_sentences_with_words(clean_jokes, filtered_words)\n",
    "print(len(sents))\n",
    "print(sents[:5])"
   ]
  },
  {
   "cell_type": "code",
   "execution_count": 67,
   "metadata": {},
   "outputs": [
    {
     "data": {
      "image/png": "[encoded data removed]",
      "text/plain": [
       "<matplotlib.figure.Figure at 0x230378ff320>"
      ]
     },
     "metadata": {},
     "output_type": "display_data"
    }
   ],
   "source": [
    "# Analysis for choosing optimum word freq cut off\n",
    "freqsL = list(range(1, 80, 5))\n",
    "num_words = []\n",
    "num_sents = []\n",
    "for x in freqsL:\n",
    "    filtered_words = dp.filter_words(word_freqs, x)\n",
    "    num_words.append(len(filtered_words))\n",
    "    num_sents.append(len(dp.get_sentences_with_words(clean_jokes, filtered_words)))\n",
    "plt.plot(num_words, num_sents)\n",
    "plt.show()"
   ]
  },
  {
   "cell_type": "code",
   "execution_count": 72,
   "metadata": {},
   "outputs": [
    {
     "name": "stdout",
     "output_type": "stream",
     "text": [
      "Number of filtered words =  9656\n",
      "Number of sentences:  102663\n"
     ]
    }
   ],
   "source": [
    "# Considering only words which have a frequency of atleast 15 and the corresponding sentences\n",
    "final_vocabulary = dp.filter_words(word_freqs, 15)\n",
    "print(\"Number of filtered words = \", len(filtered_words))\n",
    "final_clean_jokes = dp.get_sentences_with_words(clean_jokes, filtered_words)\n",
    "print(\"Number of sentences: \", len(sents))"
   ]
  },
  {
   "cell_type": "code",
   "execution_count": 76,
   "metadata": {},
   "outputs": [
    {
     "name": "stdout",
     "output_type": "stream",
     "text": [
      "Final vocabulary size:  9660\n",
      "Number of sentences:  102663\n"
     ]
    }
   ],
   "source": [
    "# Let's append sos and eos tokens to all sentences\n",
    "clean_jokes_final = [[\"sos\"] + tokens + [\"eos\"] for tokens in final_clean_jokes]\n",
    "vocabulary_final = final_vocabulary.extend([\"sos\", \"eos\"])\n",
    "print(\"Final vocabulary size: \", len(final_vocabulary))\n",
    "print(\"Number of sentences: \", len(clean_jokes_final))"
   ]
  },
  {
   "cell_type": "code",
   "execution_count": 80,
   "metadata": {},
   "outputs": [],
   "source": [
    "with open(\"./datasets/jokes.pickle\",\"wb\") as fop:\n",
    "    pickle.dump(clean_jokes_final, fop)\n",
    "    \n",
    "with open(\"./datasets/vocabulary.pickle\",\"wb\") as fop:\n",
    "    pickle.dump(clean_jokes_final, fop)"
   ]
  },
  {
   "cell_type": "code",
   "execution_count": null,
   "metadata": {},
   "outputs": [],
   "source": []
  }
 ],
 "metadata": {
  "kernelspec": {
   "display_name": "Python 3",
   "language": "python",
   "name": "python3"
  },
  "language_info": {
   "codemirror_mode": {
    "name": "ipython",
    "version": 3
   },
   "file_extension": ".py",
   "mimetype": "text/x-python",
   "name": "python",
   "nbconvert_exporter": "python",
   "pygments_lexer": "ipython3",
   "version": "3.6.4"
  }
 },
 "nbformat": 4,
 "nbformat_minor": 2
}
