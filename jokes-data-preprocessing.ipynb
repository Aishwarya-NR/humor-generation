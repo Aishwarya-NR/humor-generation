{
 "cells": [
  {
   "cell_type": "code",
   "execution_count": 16,
   "metadata": {},
   "outputs": [],
   "source": [
    "import importlib\n",
    "from library import data_preprocess as dp\n",
    "import matplotlib.pyplot as plt\n",
    "importlib.reload(dp)\n",
    "import pickle"
   ]
  },
  {
   "cell_type": "code",
   "execution_count": 17,
   "metadata": {},
   "outputs": [],
   "source": [
    "file_path1 = \"./data/shortjokes.csv\"\n",
    "file_path2 = \"./data/crowdtruth_humorous_oneliners.pickle\""
   ]
  },
  {
   "cell_type": "code",
   "execution_count": 18,
   "metadata": {},
   "outputs": [],
   "source": [
    "#file_path1 = dp.download_data('https://github.com/amoudgl/short-jokes-dataset/raw/master/shortjokes.csv')"
   ]
  },
  {
   "cell_type": "code",
   "execution_count": 24,
   "metadata": {},
   "outputs": [
    {
     "name": "stdout",
     "output_type": "stream",
     "text": [
      "['Insanity is hereditary, - You get it from your children.', 'An honest politician is one who, when bought, stays bought.']\n",
      "['[me narrating a documentary about narrators] \"I can\\'t hear what they\\'re saying cuz I\\'m talking\"', 'Telling my daughter garlic is good for you. Good immune system and keeps pests away.Ticks, mosquitos, vampires... men.', \"I've been going through a really rough period at work this week It's my own fault for swapping my tampax for sand paper.\", 'If I could have dinner with anyone, dead or alive... ...I would choose alive. -B.J. Novak-', 'Two guys walk into a bar. The third guy ducks.', \"Why can't Barbie get pregnant? Because Ken comes in a different box. Heyooooooo\", 'Why was the musician arrested? He got in treble.', 'Did you hear about the guy who blew his entire lottery winnings on a limousine? He had nothing left to chauffeur it.', \"What do you do if a bird shits on your car? Don't ask her out again.\", 'He was a real gentlemen and always opened the fridge door for me']\n"
     ]
    }
   ],
   "source": [
    "jokes1 = dp.load_data(file_path1, header=True, sep=',')\n",
    "jokes1 = list(jokes1['Joke'].values)\n",
    "with open(file_path2, 'rb') as pickleFile:\n",
    "    jokes2 = pickle.load(pickleFile)\n",
    "jokes = jokes1\n",
    "jokes.extend(jokes2)\n",
    "print(jokes2[:2])\n",
    "print(jokes[:10])"
   ]
  },
  {
   "cell_type": "code",
   "execution_count": 25,
   "metadata": {},
   "outputs": [
    {
     "name": "stdout",
     "output_type": "stream",
     "text": [
      "97\n",
      "['\\x08', '\\x10', ' ', '!', '\"', '#', '$', '%', '&', \"'\", '(', ')', '*', '+', ',', '-', '.', '/', '0', '1', '2', '3', '4', '5', '6', '7', '8', '9', ':', ';', '<', '=', '>', '?', '@', 'A', 'B', 'C', 'D', 'E', 'F', 'G', 'H', 'I', 'J', 'K', 'L', 'M', 'N', 'O', 'P', 'Q', 'R', 'S', 'T', 'U', 'V', 'W', 'X', 'Y', 'Z', '[', '\\\\', ']', '^', '_', '`', 'a', 'b', 'c', 'd', 'e', 'f', 'g', 'h', 'i', 'j', 'k', 'l', 'm', 'n', 'o', 'p', 'q', 'r', 's', 't', 'u', 'v', 'w', 'x', 'y', 'z', '{', '|', '}', '~']\n"
     ]
    }
   ],
   "source": [
    "unique_chars = dp.get_unique_chars(jokes)\n",
    "print(len(unique_chars))\n",
    "print(unique_chars)"
   ]
  },
  {
   "cell_type": "code",
   "execution_count": 26,
   "metadata": {},
   "outputs": [
    {
     "name": "stdout",
     "output_type": "stream",
     "text": [
      "Number of sentences containing each char is,\n",
      "{'\\x08': 1, '\\x10': 1, ' ': 236843, '!': 27659, '\"': 32687, '#': 725, '$': 1400, '%': 1164, '&': 3672, \"'\": 105958, '(': 4659, ')': 5136, '*': 8101, '+': 294, ',': 66856, '-': 20385, '.': 170322, '/': 3290, '0': 9605, '1': 11289, '2': 8906, '3': 5778, '4': 4286, '5': 5427, '6': 3441, '7': 2854, '8': 2987, '9': 4059, ':': 23188, ';': 2043, '<': 52, '=': 411, '>': 42, '?': 109393, '@': 140, 'A': 52504, 'B': 34835, 'C': 27523, 'D': 30529, 'E': 18124, 'F': 17389, 'G': 17807, 'H': 44100, 'I': 103414, 'J': 14597, 'K': 9620, 'L': 15430, 'M': 39107, 'N': 24313, 'O': 20770, 'P': 21072, 'Q': 3684, 'R': 16879, 'S': 43037, 'T': 58894, 'U': 8545, 'V': 5441, 'W': 93356, 'X': 926, 'Y': 19730, 'Z': 1051, '[': 5614, '\\\\': 81, ']': 5615, '^': 402, '_': 388, '`': 63, 'a': 233695, 'b': 149403, 'c': 185169, 'd': 213402, 'e': 235143, 'f': 155401, 'g': 170851, 'h': 225427, 'i': 229643, 'j': 33305, 'k': 139910, 'l': 208224, 'm': 180659, 'n': 228412, 'o': 233405, 'p': 148372, 'q': 7529, 'r': 225279, 's': 229503, 't': 233147, 'u': 201133, 'v': 100680, 'w': 176130, 'x': 25961, 'y': 197645, 'z': 13401, '{': 59, '|': 41, '}': 63, '~': 309}\n"
     ]
    }
   ],
   "source": [
    "dp.get_char_presence(jokes)"
   ]
  },
  {
   "cell_type": "code",
   "execution_count": 27,
   "metadata": {},
   "outputs": [
    {
     "name": "stdout",
     "output_type": "stream",
     "text": [
      "Total number of jokes =  236875\n",
      "194664\n",
      "['Telling my daughter garlic is good for you. Good immune system and keeps pests away.Ticks, mosquitos, vampires... men.', \"I've been going through a really rough period at work this week It's my own fault for swapping my tampax for sand paper.\", 'If I could have dinner with anyone, dead or alive... ...I would choose alive. -B.J. Novak-', 'Two guys walk into a bar. The third guy ducks.', \"Why can't Barbie get pregnant? Because Ken comes in a different box. Heyooooooo\", 'Why was the musician arrested? He got in treble.', 'Did you hear about the guy who blew his entire lottery winnings on a limousine? He had nothing left to chauffeur it.', \"What do you do if a bird shits on your car? Don't ask her out again.\", 'He was a real gentlemen and always opened the fridge door for me', 'Telling my daugthers date that \"she has lice and its very contagious the closer you get to her.\" *Correct way to parent.']\n"
     ]
    }
   ],
   "source": [
    "print(\"Total number of jokes = \", len(jokes))\n",
    "filter_jokes = dp.filter_data(jokes, \"^[a-zA-Z !\\\"',.?\\-\\:\\*]+$\")\n",
    "print(len(filter_jokes))\n",
    "print(filter_jokes[:10])"
   ]
  },
  {
   "cell_type": "code",
   "execution_count": 28,
   "metadata": {},
   "outputs": [
    {
     "name": "stdout",
     "output_type": "stream",
     "text": [
      "36\n",
      "[' ', '!', '\"', \"'\", '*', ',', '-', '.', ':', '?', 'a', 'b', 'c', 'd', 'e', 'f', 'g', 'h', 'i', 'j', 'k', 'l', 'm', 'n', 'o', 'p', 'q', 'r', 's', 't', 'u', 'v', 'w', 'x', 'y', 'z']\n",
      "194664\n",
      "[['telling', 'my', 'daughter', 'garlic', 'is', 'good', 'for', 'you', '.', 'good', 'immune', 'system', 'and', 'keeps', 'pests', 'away', '.', 'ticks', ',', 'mosquitos', ',', 'vampires', 'threedots', 'men', '.'], ['i', \"'\", 've', 'been', 'going', 'through', 'a', 'really', 'rough', 'period', 'at', 'work', 'this', 'week', 'it', \"'\", 's', 'my', 'own', 'fault', 'for', 'swapping', 'my', 'tampax', 'for', 'sand', 'paper', '.']]\n",
      "min of length:  1\n",
      "max of length:  107\n",
      "average length:  21.00698126001726\n",
      "mode of length:  16\n"
     ]
    }
   ],
   "source": [
    "special_chars = [' ', '!', '\"', \"'\", '*', ',', '-', '.', ':', '?']\n",
    "clean_jokes = dp.clean_data(jokes, \"^[a-zA-Z !\\\"'*,\\-.:?]+$\", special_chars)\n",
    "\n",
    "unique_chars = dp.get_unique_chars(clean_jokes)\n",
    "print(len(unique_chars))\n",
    "print(unique_chars)\n",
    "\n",
    "clean_jokes = dp.tokenize(clean_jokes)\n",
    "\n",
    "print(len(clean_jokes))\n",
    "print(clean_jokes[:2])\n",
    "\n",
    "# stats of number of tokens in the sentence\n",
    "dp.get_len_stats(clean_jokes)"
   ]
  },
  {
   "cell_type": "code",
   "execution_count": 29,
   "metadata": {},
   "outputs": [
    {
     "name": "stdout",
     "output_type": "stream",
     "text": [
      "188010\n"
     ]
    }
   ],
   "source": [
    "MIN_NUM_TOKENS = 6\n",
    "MAX_NUM_TOKENS = 40\n",
    "clean_jokes = dp.filter_data_on_length(clean_jokes, MIN_NUM_TOKENS, MAX_NUM_TOKENS)\n",
    "print(len(clean_jokes))"
   ]
  },
  {
   "cell_type": "code",
   "execution_count": 30,
   "metadata": {},
   "outputs": [],
   "source": [
    "word_freqs = dp.get_vocabulary(clean_jokes)"
   ]
  },
  {
   "cell_type": "code",
   "execution_count": 31,
   "metadata": {},
   "outputs": [
    {
     "name": "stdout",
     "output_type": "stream",
     "text": [
      "Total vocabulary:  54014\n",
      "average of frequency:  70.7810197356241\n",
      "mode of frequency:  1\n"
     ]
    }
   ],
   "source": [
    "dp.get_vocabulary_stats(word_freqs)"
   ]
  },
  {
   "cell_type": "code",
   "execution_count": 38,
   "metadata": {},
   "outputs": [
    {
     "name": "stdout",
     "output_type": "stream",
     "text": [
      "Number of filtered words =  8212\n",
      "94663\n",
      "[['two', 'guys', 'walk', 'into', 'a', 'bar', '.', 'the', 'third', 'guy', 'ducks', '.'], ['what', 'do', 'you', 'do', 'if', 'a', 'bird', 'shits', 'on', 'your', 'car', '?', 'don', \"'\", 't', 'ask', 'her', 'out', 'again', '.'], ['he', 'was', 'a', 'real', 'gentlemen', 'and', 'always', 'opened', 'the', 'fridge', 'door', 'for', 'me'], ['you', 'ever', 'notice', 'that', 'the', 'most', 'dangerous', 'thing', 'about', 'marijuana', 'is', 'getting', 'caught', 'with', 'it', '?'], ['my', 'wife', 'is', 'in', 'a', 'bad', 'mood', '.', 'i', 'think', 'her', 'boyfriend', 'forgot', 'their', 'anniversary', '.', 'way', 'to', 'go', ',', 'dude', '.', 'now', 'we', 'all', 'suffer', 'threedots']]\n"
     ]
    }
   ],
   "source": [
    "filtered_words = dp.filter_words(word_freqs, 20)\n",
    "print(\"Number of filtered words = \", len(filtered_words))\n",
    "sents = dp.get_sentences_with_words(clean_jokes, filtered_words)\n",
    "print(len(sents))\n",
    "print(sents[:5])"
   ]
  },
  {
   "cell_type": "code",
   "execution_count": 41,
   "metadata": {},
   "outputs": [
    {
     "data": {
      "image/png": "[encoded data removed]",
      "text/plain": [
       "<matplotlib.figure.Figure at 0x1d0efbf4da0>"
      ]
     },
     "metadata": {},
     "output_type": "display_data"
    }
   ],
   "source": [
    "# Analysis for choosing optimum word freq cut off\n",
    "freqsL = list(range(1, 80, 5))\n",
    "num_words = []\n",
    "num_sents = []\n",
    "for x in freqsL:\n",
    "    filtered_words = dp.filter_words(word_freqs, x)\n",
    "    num_words.append(len(filtered_words))\n",
    "    num_sents.append(len(dp.get_sentences_with_words(clean_jokes, filtered_words)))\n",
    "plt.plot(num_words, num_sents)\n",
    "plt.show()"
   ]
  },
  {
   "cell_type": "code",
   "execution_count": 42,
   "metadata": {},
   "outputs": [
    {
     "name": "stdout",
     "output_type": "stream",
     "text": [
      "Number of filtered words =  9764\n",
      "Number of sentences:  106416\n"
     ]
    }
   ],
   "source": [
    "# Considering only words which have a frequency of atleast 15 and the corresponding sentences\n",
    "final_vocabulary = dp.filter_words(word_freqs, 15)\n",
    "print(\"Number of filtered words = \", len(final_vocabulary))\n",
    "final_clean_jokes = dp.get_sentences_with_words(clean_jokes, final_vocabulary)\n",
    "print(\"Number of sentences: \", len(final_clean_jokes))"
   ]
  },
  {
   "cell_type": "code",
   "execution_count": 43,
   "metadata": {
    "scrolled": true
   },
   "outputs": [
    {
     "name": "stdout",
     "output_type": "stream",
     "text": [
      "Final vocabulary size:  9766\n",
      "Number of sentences:  106416\n",
      "['sos two guys walk into a bar . the third guy ducks . eos', 'sos why was the musician arrested ? he got in treble . eos']\n"
     ]
    }
   ],
   "source": [
    "# Let's append sos and eos tokens to all sentences\n",
    "clean_jokes_final = [[\"sos\"] + tokens + [\"eos\"] for tokens in final_clean_jokes]\n",
    "clean_jokes_final = [' '.join(tokens) for tokens in clean_jokes_final]\n",
    "vocabulary_final = final_vocabulary.extend([\"sos\", \"eos\"])\n",
    "print(\"Final vocabulary size: \", len(final_vocabulary))\n",
    "print(\"Number of sentences: \", len(clean_jokes_final))\n",
    "print(clean_jokes_final[:2])"
   ]
  },
  {
   "cell_type": "code",
   "execution_count": 44,
   "metadata": {},
   "outputs": [],
   "source": [
    "with open(\"./datasets/jokes.pickle\",\"wb\") as fop:\n",
    "    pickle.dump(clean_jokes_final, fop)\n",
    "    \n",
    "with open(\"./datasets/vocabulary.pickle\",\"wb\") as fop:\n",
    "    pickle.dump(clean_jokes_final, fop)"
   ]
  },
  {
   "cell_type": "code",
   "execution_count": 45,
   "metadata": {},
   "outputs": [
    {
     "name": "stdout",
     "output_type": "stream",
     "text": [
      "['sos two guys walk into a bar . the third guy ducks . eos', 'sos why was the musician arrested ? he got in treble . eos', \"sos what do you do if a bird shits on your car ? don ' t ask her out again . eos\", 'sos he was a real gentlemen and always opened the fridge door for me eos', 'sos you ever notice that the most dangerous thing about marijuana is getting caught with it ? eos']\n"
     ]
    }
   ],
   "source": [
    "print(clean_jokes_final[:5])"
   ]
  },
  {
   "cell_type": "code",
   "execution_count": null,
   "metadata": {},
   "outputs": [],
   "source": []
  }
 ],
 "metadata": {
  "kernelspec": {
   "display_name": "Python 3",
   "language": "python",
   "name": "python3"
  },
  "language_info": {
   "codemirror_mode": {
    "name": "ipython",
    "version": 3
   },
   "file_extension": ".py",
   "mimetype": "text/x-python",
   "name": "python",
   "nbconvert_exporter": "python",
   "pygments_lexer": "ipython3",
   "version": "3.6.4"
  }
 },
 "nbformat": 4,
 "nbformat_minor": 2
}
