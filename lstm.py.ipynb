{
 "cells": [
  {
   "cell_type": "code",
   "execution_count": 92,
   "metadata": {},
   "outputs": [],
   "source": [
    "import pickle\n",
    "import pandas as pd\n",
    "import re"
   ]
  },
  {
   "cell_type": "code",
   "execution_count": 3,
   "metadata": {},
   "outputs": [
    {
     "name": "stdout",
     "output_type": "stream",
     "text": [
      "Done. Saved 10502 bytes.\n"
     ]
    }
   ],
   "source": [
    "# Link to original dataset: https://github.com/CrowdTruth/Short-Text-Corpus-For-Humor-Detection/blob/master/datasets/humorous_oneliners.pickle\n",
    "# git versions changed the Unix new lines ('\\n') to DOS lines ('\\r\\n') so the following step is needed\n",
    "\n",
    "from library.dos2unixfile import dos2unixfile\n",
    "dos2unixfile(\"datasets/original_humorous_oneliners.pickle\", \"datasets/humorous_oneliners.pickle\")"
   ]
  },
  {
   "cell_type": "code",
   "execution_count": 79,
   "metadata": {},
   "outputs": [],
   "source": [
    "jokes_dataL = pd.read_pickle(\"datasets/humorous_oneliners.pickle\", compression=None)\n",
    "jokes_data = pd.DataFrame(jokes_dataL, columns = [\"joke\"])"
   ]
  },
  {
   "cell_type": "code",
   "execution_count": 80,
   "metadata": {},
   "outputs": [
    {
     "data": {
      "text/html": [
       "<div>\n",
       "<style scoped>\n",
       "    .dataframe tbody tr th:only-of-type {\n",
       "        vertical-align: middle;\n",
       "    }\n",
       "\n",
       "    .dataframe tbody tr th {\n",
       "        vertical-align: top;\n",
       "    }\n",
       "\n",
       "    .dataframe thead th {\n",
       "        text-align: right;\n",
       "    }\n",
       "</style>\n",
       "<table border=\"1\" class=\"dataframe\">\n",
       "  <thead>\n",
       "    <tr style=\"text-align: right;\">\n",
       "      <th></th>\n",
       "      <th>joke</th>\n",
       "    </tr>\n",
       "  </thead>\n",
       "  <tbody>\n",
       "    <tr>\n",
       "      <th>0</th>\n",
       "      <td>Insanity is hereditary, - You get it from your children.</td>\n",
       "    </tr>\n",
       "    <tr>\n",
       "      <th>1</th>\n",
       "      <td>An honest politician is one who, when bought, stays bought.</td>\n",
       "    </tr>\n",
       "    <tr>\n",
       "      <th>2</th>\n",
       "      <td>You can tune a piano, but you can't tuna fish.</td>\n",
       "    </tr>\n",
       "    <tr>\n",
       "      <th>3</th>\n",
       "      <td>A closed mouth gathers no foot.</td>\n",
       "    </tr>\n",
       "    <tr>\n",
       "      <th>4</th>\n",
       "      <td>What's black and white and red all over?  An embarassed zebra.</td>\n",
       "    </tr>\n",
       "    <tr>\n",
       "      <th>5</th>\n",
       "      <td>What's black and white and red all over?  Certainly not the Halifax newspapers.</td>\n",
       "    </tr>\n",
       "    <tr>\n",
       "      <th>6</th>\n",
       "      <td>Gravity doesn't exist: the earth sucks.</td>\n",
       "    </tr>\n",
       "    <tr>\n",
       "      <th>7</th>\n",
       "      <td>What's the most popular form of birth control?  The headache.</td>\n",
       "    </tr>\n",
       "    <tr>\n",
       "      <th>8</th>\n",
       "      <td>He who laughs last probably doesn't understand the joke.</td>\n",
       "    </tr>\n",
       "    <tr>\n",
       "      <th>9</th>\n",
       "      <td>Let him who takes the plunge remember to return it by Tuesday.</td>\n",
       "    </tr>\n",
       "  </tbody>\n",
       "</table>\n",
       "</div>"
      ],
      "text/plain": [
       "                                                                              joke\n",
       "0  Insanity is hereditary, - You get it from your children.                       \n",
       "1  An honest politician is one who, when bought, stays bought.                    \n",
       "2  You can tune a piano, but you can't tuna fish.                                 \n",
       "3  A closed mouth gathers no foot.                                                \n",
       "4  What's black and white and red all over?  An embarassed zebra.                 \n",
       "5  What's black and white and red all over?  Certainly not the Halifax newspapers.\n",
       "6  Gravity doesn't exist: the earth sucks.                                        \n",
       "7  What's the most popular form of birth control?  The headache.                  \n",
       "8  He who laughs last probably doesn't understand the joke.                       \n",
       "9  Let him who takes the plunge remember to return it by Tuesday.                 "
      ]
     },
     "execution_count": 80,
     "metadata": {},
     "output_type": "execute_result"
    }
   ],
   "source": [
    "pd.set_option('display.max_colwidth', -1)\n",
    "jokes_data.head(10)"
   ]
  },
  {
   "cell_type": "code",
   "execution_count": 269,
   "metadata": {},
   "outputs": [
    {
     "name": "stdout",
     "output_type": "stream",
     "text": [
      "Number of jokes originally:  (5251, 1)\n",
      "Number of jokes after cleaning:  (5218, 1)\n"
     ]
    },
    {
     "data": {
      "text/html": [
       "<div>\n",
       "<style scoped>\n",
       "    .dataframe tbody tr th:only-of-type {\n",
       "        vertical-align: middle;\n",
       "    }\n",
       "\n",
       "    .dataframe tbody tr th {\n",
       "        vertical-align: top;\n",
       "    }\n",
       "\n",
       "    .dataframe thead th {\n",
       "        text-align: right;\n",
       "    }\n",
       "</style>\n",
       "<table border=\"1\" class=\"dataframe\">\n",
       "  <thead>\n",
       "    <tr style=\"text-align: right;\">\n",
       "      <th></th>\n",
       "      <th>joke</th>\n",
       "    </tr>\n",
       "  </thead>\n",
       "  <tbody>\n",
       "    <tr>\n",
       "      <th>0</th>\n",
       "      <td>insanity is hereditary, - you get it from your children.</td>\n",
       "    </tr>\n",
       "    <tr>\n",
       "      <th>1</th>\n",
       "      <td>an honest politician is one who, when bought, stays bought.</td>\n",
       "    </tr>\n",
       "    <tr>\n",
       "      <th>2</th>\n",
       "      <td>you can tune a piano, but you can't tuna fish.</td>\n",
       "    </tr>\n",
       "    <tr>\n",
       "      <th>3</th>\n",
       "      <td>a closed mouth gathers no foot.</td>\n",
       "    </tr>\n",
       "    <tr>\n",
       "      <th>4</th>\n",
       "      <td>what's black and white and red all over? an embarassed zebra.</td>\n",
       "    </tr>\n",
       "    <tr>\n",
       "      <th>5</th>\n",
       "      <td>what's black and white and red all over? certainly not the halifax newspapers.</td>\n",
       "    </tr>\n",
       "    <tr>\n",
       "      <th>6</th>\n",
       "      <td>gravity doesn't exist: the earth sucks.</td>\n",
       "    </tr>\n",
       "    <tr>\n",
       "      <th>7</th>\n",
       "      <td>what's the most popular form of birth control? the headache.</td>\n",
       "    </tr>\n",
       "    <tr>\n",
       "      <th>8</th>\n",
       "      <td>he who laughs last probably doesn't understand the joke.</td>\n",
       "    </tr>\n",
       "    <tr>\n",
       "      <th>9</th>\n",
       "      <td>let him who takes the plunge remember to return it by tuesday.</td>\n",
       "    </tr>\n",
       "  </tbody>\n",
       "</table>\n",
       "</div>"
      ],
      "text/plain": [
       "                                                                             joke\n",
       "0  insanity is hereditary, - you get it from your children.                      \n",
       "1  an honest politician is one who, when bought, stays bought.                   \n",
       "2  you can tune a piano, but you can't tuna fish.                                \n",
       "3  a closed mouth gathers no foot.                                               \n",
       "4  what's black and white and red all over? an embarassed zebra.                 \n",
       "5  what's black and white and red all over? certainly not the halifax newspapers.\n",
       "6  gravity doesn't exist: the earth sucks.                                       \n",
       "7  what's the most popular form of birth control? the headache.                  \n",
       "8  he who laughs last probably doesn't understand the joke.                      \n",
       "9  let him who takes the plunge remember to return it by tuesday.                "
      ]
     },
     "execution_count": 269,
     "metadata": {},
     "output_type": "execute_result"
    }
   ],
   "source": [
    "# data preprocessing\n",
    "\n",
    "MIN_JOKE_LEN = 10\n",
    "MAX_JOKE_LEN = 200\n",
    "\n",
    "def regex_match(sentence):\n",
    "    return bool(re.match(r\"^[ -z]+$\", sentence))\n",
    "\n",
    "print(\"Number of jokes originally: \", jokes_data.shape)\n",
    "\n",
    "# convert to lowercase. Strip left and right whitespaces. Replace multiple spaces with a single space\n",
    "# Replace odd characters with appropriate ones\n",
    "\n",
    "clean_jokes_data = (jokes_data\n",
    "                    .replace('^\\-', '', regex=True)\n",
    "                    .replace('[\\t|\\r|\\n]', ' ', regex=True)\n",
    "                    .replace(\"\\\\\\\\\", ' ', regex=True)\n",
    "                    .replace(\"`|´\", \"'\", regex=True)\n",
    "                    .replace(\"\\u2018|\\u2019\", \"'\", regex=True)\n",
    "                    .replace(\"\\u201C|\\u201D\", '\"', regex=True)\n",
    "                    .replace(\"–\", '-', regex=True)\n",
    "                    .replace(\"…\", '...', regex=True)\n",
    "                    .replace(\"\\&\", \" and \", regex=True)\n",
    "                    .replace(\"\\s+\", ' ', regex=True)\n",
    "                    .applymap(str.lower)\n",
    "                    .applymap(str.strip))\n",
    "\n",
    "clean_jokes_data = clean_jokes_data[clean_jokes_data[\"joke\"].apply(regex_match) &\n",
    "                                    (clean_jokes_data[\"joke\"].str.len() >= MIN_JOKE_LEN) & \n",
    "                                    (clean_jokes_data[\"joke\"].str.len() <= MAX_JOKE_LEN)]\n",
    "\n",
    "print(\"Number of jokes after cleaning: \", clean_jokes_data.shape)\n",
    "clean_jokes_data.head(10)"
   ]
  },
  {
   "cell_type": "code",
   "execution_count": 271,
   "metadata": {},
   "outputs": [
    {
     "name": "stdout",
     "output_type": "stream",
     "text": [
      "[' ', '!', '\"', '#', '$', '%', \"'\", '(', ')', '*', '+', ',', '-', '.', '/', '0', '1', '2', '3', '4', '5', '6', '7', '8', '9', ':', ';', '=', '?', '@', '^', '_', 'a', 'b', 'c', 'd', 'e', 'f', 'g', 'h', 'i', 'j', 'k', 'l', 'm', 'n', 'o', 'p', 'q', 'r', 's', 't', 'u', 'v', 'w', 'x', 'y', 'z']\n",
      "Number of unique chars =  58\n"
     ]
    }
   ],
   "source": [
    "unique_chars = sorted(list(set(clean_jokes_data[\"joke\"].str.cat(sep=''))))\n",
    "print(unique_chars)\n",
    "print(\"Number of unique chars = \", len(unique_chars))"
   ]
  },
  {
   "cell_type": "code",
   "execution_count": null,
   "metadata": {},
   "outputs": [],
   "source": []
  }
 ],
 "metadata": {
  "kernelspec": {
   "display_name": "Python 3",
   "language": "python",
   "name": "python3"
  },
  "language_info": {
   "codemirror_mode": {
    "name": "ipython",
    "version": 3
   },
   "file_extension": ".py",
   "mimetype": "text/x-python",
   "name": "python",
   "nbconvert_exporter": "python",
   "pygments_lexer": "ipython3",
   "version": "3.6.3"
  }
 },
 "nbformat": 4,
 "nbformat_minor": 2
}
